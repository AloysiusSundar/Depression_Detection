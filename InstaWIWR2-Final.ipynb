{
 "cells": [
  {
   "cell_type": "code",
   "execution_count": 75,
   "id": "bc4be2f6",
   "metadata": {},
   "outputs": [],
   "source": [
    "import requests\n",
    "import pandas as pd\n",
    "import matplotlib.pyplot as plt"
   ]
  },
  {
   "cell_type": "code",
   "execution_count": 76,
   "id": "e36eb226",
   "metadata": {},
   "outputs": [],
   "source": [
    "url = f'https://graph.instagram.com/me/media?fields=id,caption,media_type,media_url,timestamp&access_token=IGQWRONmdaelNlOTB3cjFzcTFTd25tLUloYWRySHg4SlhicmlFSW5OV1pWcnNYU2YtYkNkSFJWTThwcnpNTW02d19ZATzVrMUJrMVFpcXpFYm5JeDFfODFDaDdfQkRDMHJuOXpXd0c2VE1Ta3JBb1lHalpUUG5PTDgZD'"
   ]
  },
  {
   "cell_type": "code",
   "execution_count": 77,
   "id": "6b83755f",
   "metadata": {},
   "outputs": [],
   "source": [
    "access_token='IGQWRONmdaelNlOTB3cjFzcTFTd25tLUloYWRySHg4SlhicmlFSW5OV1pWcnNYU2YtYkNkSFJWTThwcnpNTW02d19ZATzVrMUJrMVFpcXpFYm5JeDFfODFDaDdfQkRDMHJuOXpXd0c2VE1Ta3JBb1lHalpUUG5PTDgZD'"
   ]
  },
  {
   "cell_type": "code",
   "execution_count": 78,
   "id": "65ce47c5",
   "metadata": {},
   "outputs": [],
   "source": [
    "response = requests.get(url)"
   ]
  },
  {
   "cell_type": "code",
   "execution_count": 79,
   "id": "48208fee",
   "metadata": {},
   "outputs": [],
   "source": [
    "if response.status_code == 200:\n",
    "    data = response.json()\n",
    "else:\n",
    "    print(\"Error making the API request:\", response.text)\n",
    "    data = None"
   ]
  },
  {
   "cell_type": "code",
   "execution_count": 80,
   "id": "c1e96d4f",
   "metadata": {},
   "outputs": [
    {
     "data": {
      "text/plain": [
       "{'data': [{'id': '18227088265280124',\n",
       "   'caption': \"I wish I could see a way out, but the path forward is so unclear. I know I have to keep moving, but some days it's just too hard. The silence can be deafening, and I often find myself wishing for a sign, something to show me that I'm not alone in this. I keep hoping that tomorrow will be better, but each new day feels like a rerun of the last. I just want to feel something again.\",\n",
       "   'media_type': 'IMAGE',\n",
       "   'media_url': 'https://scontent.cdninstagram.com/v/t51.29350-15/441248127_1158973988624621_3187270308235607167_n.jpg?_nc_cat=100&ccb=1-7&_nc_sid=18de74&_nc_ohc=1heq8_CtWDQQ7kNvgGWp9Mt&_nc_oc=AdheK3FuHPjAwRXrUHkkKz8AhnVBVquy_pZ4n4GBQLEd7-L_H9Bsyzsl-_KltSDgcv6tNpoAWTqTlfEupuveNag6&_nc_ht=scontent.cdninstagram.com&edm=ANo9K5cEAAAA&oh=00_AfCOmQXcq0UoUN86hyQX4KMvasXrCAcVKRYOY21lWvx-ag&oe=664246A8',\n",
       "   'timestamp': '2024-05-04T13:05:43+0000'},\n",
       "  {'id': '18001978385605323',\n",
       "   'caption': \"There’s an emptiness that follows when a relationship falls apart. The shared jokes, the familiar routines, the dreams you had for the future—all of it suddenly feels out of reach. I often wonder if I'll ever find that kind of connection again or if I'm destined to keep repeating the same mistakes. I know that healing takes time, but some days, it feels like the pain will never go away. All I can do is keep moving forward and hope that, someday, things will start to feel better.\",\n",
       "   'media_type': 'IMAGE',\n",
       "   'media_url': 'https://scontent.cdninstagram.com/v/t51.29350-15/441468739_3826173650952697_8241652778069561621_n.jpg?_nc_cat=108&ccb=1-7&_nc_sid=18de74&_nc_ohc=cHg5Gprx6FIQ7kNvgGDUXOk&_nc_ht=scontent.cdninstagram.com&edm=ANo9K5cEAAAA&oh=00_AfDaoCxQ60_21Wa6sP5toZVM9KpZ5OJ2crDPR7qiy4dkDg&oe=66422DFF',\n",
       "   'timestamp': '2024-05-04T13:05:02+0000'},\n",
       "  {'id': '18028155728062543',\n",
       "   'caption': \"Life often feels like an uphill climb, with no clear end in sight. Every day brings a new set of challenges, and sometimes it feels like I'm stuck in a cycle that never seems to break. The weight of expectations, both my own and those of others, can be so crushing. It's hard to breathe when every step feels like it takes me further from where I want to be.\",\n",
       "   'media_type': 'IMAGE',\n",
       "   'media_url': 'https://scontent.cdninstagram.com/v/t51.29350-15/441468869_1447342746102133_4947127787113306363_n.jpg?_nc_cat=108&ccb=1-7&_nc_sid=18de74&_nc_ohc=1-5Jjc1mI4MQ7kNvgF_gweR&_nc_ht=scontent.cdninstagram.com&edm=ANo9K5cEAAAA&oh=00_AfC61W5eywaDvdDg1r42rC8odsNDIcaUJtCIPHyn4wGHHA&oe=6642308F',\n",
       "   'timestamp': '2024-05-04T13:01:15+0000'},\n",
       "  {'id': '18063719863538580',\n",
       "   'caption': \"The bottle seemed like a quick escape from my thoughts. I never expected it to pull me down this deep. Now every drink feels like a step further from where I want to be. I know I need to find my way out. I'm smiling through it all, faking everything.\",\n",
       "   'media_type': 'IMAGE',\n",
       "   'media_url': 'https://scontent.cdninstagram.com/v/t51.29350-15/441439707_958635899257536_8797781458206798446_n.jpg?_nc_cat=100&ccb=1-7&_nc_sid=18de74&_nc_ohc=MmNNfRZDFpoQ7kNvgEcKHU5&_nc_ht=scontent.cdninstagram.com&edm=ANo9K5cEAAAA&oh=00_AfDvMYKzP5MjpOl3x72Gg-Tcd21JNReWYv4BO8TyxHRdHw&oe=6642334A',\n",
       "   'timestamp': '2024-05-04T12:53:06+0000'},\n",
       "  {'id': '18008219390203733',\n",
       "   'caption': 'What started as a game turned into something darker. Gambling addiction turned my dreams into debts. Every bet took me further from the life I wanted',\n",
       "   'media_type': 'IMAGE',\n",
       "   'media_url': 'https://scontent.cdninstagram.com/v/t51.29350-15/441473400_1601860097214825_7741255975006658774_n.jpg?_nc_cat=108&ccb=1-7&_nc_sid=18de74&_nc_ohc=bY8wmIeUTfYQ7kNvgG42jQt&_nc_ht=scontent.cdninstagram.com&edm=ANo9K5cEAAAA&oh=00_AfC5vqxMbHvz_GuiK1VU-gEaOUx6mhPvidgqITJzTFDYNA&oe=66422972',\n",
       "   'timestamp': '2024-05-04T12:52:00+0000'},\n",
       "  {'id': '18014434958096049',\n",
       "   'caption': 'When you find out she thought you were playing for the other team. 💔 Guess I never had a chance. #FriendZone #Misunderstood\\n\\nMy heart sank when I realized she never even considered me as an option. It’s like my chances disappeared before they even had a chance to begin.',\n",
       "   'media_type': 'IMAGE',\n",
       "   'media_url': 'https://scontent.cdninstagram.com/v/t51.29350-15/441434099_3705328239739917_9034093181957405434_n.jpg?_nc_cat=100&ccb=1-7&_nc_sid=18de74&_nc_ohc=wVZu4RwVkhYQ7kNvgFiHCC_&_nc_ht=scontent.cdninstagram.com&edm=ANo9K5cEAAAA&oh=00_AfDeBH3jnIEP8HUEyX9qrAKzBK46nIG1SM0qqghqabm55A&oe=664217A5',\n",
       "   'timestamp': '2024-05-04T12:50:31+0000'},\n",
       "  {'id': '18019842629009943',\n",
       "   'caption': \"Dreams are like fragile threads, easily broken by tradition. Forced into a future I never chose. My mom's dreams have become my reality. I'm hiding my sadness behind my smile but I don't know for how long\",\n",
       "   'media_type': 'IMAGE',\n",
       "   'media_url': 'https://scontent.cdninstagram.com/v/t51.29350-15/441451014_2374849846040891_3906818873578097866_n.jpg?_nc_cat=106&ccb=1-7&_nc_sid=18de74&_nc_ohc=sSyp7QZ2WhgQ7kNvgHPLvmn&_nc_ht=scontent.cdninstagram.com&edm=ANo9K5cEAAAA&oh=00_AfB3hUE83RpowKrjXYe0SFpAEr84EDzDguwEq0f41J6KRQ&oe=66421E1C',\n",
       "   'timestamp': '2024-05-04T12:48:04+0000'},\n",
       "  {'id': '18049687408639342',\n",
       "   'caption': 'It gets tougher everyday',\n",
       "   'media_type': 'IMAGE',\n",
       "   'media_url': 'https://scontent.cdninstagram.com/v/t51.29350-15/440914603_1148341009700329_8794870000605352566_n.jpg?_nc_cat=105&ccb=1-7&_nc_sid=18de74&_nc_ohc=_VRJn8v3HxUQ7kNvgGJ-uDx&_nc_ht=scontent.cdninstagram.com&edm=ANo9K5cEAAAA&oh=00_AfAx0o8-K3uFNEyBRVIWRx7qRwBX-LD_EZ8FBW9mK98oJA&oe=66423292',\n",
       "   'timestamp': '2024-05-04T10:29:34+0000'}],\n",
       " 'paging': {'cursors': {'before': 'QVFIUm96M0NPMlNQaUQzOS1ZAM3hTUHhEcG5HTkJQV1R2RW5ucGRYNkxtMHZAhckh4eU5OcjN2TEprdnVsa2MteWFtaEsxXzdrX1VRVTBhYndnWmNMczI5ZA0x3',\n",
       "   'after': 'QVFIUmwwb1FXR3NxeU5ZAUWptdDBFVlJQSU1PbVprMk9GTHMxSHdwZAk42OGNyRzhab3gwWFE1TEJvTUlmdTg5MVZArU3BWMm84MHByaFZA0cTcwR1hVa2h2M3lR'}}}"
      ]
     },
     "execution_count": 80,
     "metadata": {},
     "output_type": "execute_result"
    }
   ],
   "source": [
    "data"
   ]
  },
  {
   "cell_type": "code",
   "execution_count": 81,
   "id": "41e9a646",
   "metadata": {},
   "outputs": [],
   "source": [
    "if data:\n",
    "    df = pd.DataFrame(data['data'])  # Assuming 'data' is a dictionary containing 'data' key with a list of records\n",
    "else:\n",
    "    df = pd.DataFrame(columns=['id', 'caption','mediatype','media_url','timestamp'])\n"
   ]
  },
  {
   "cell_type": "code",
   "execution_count": 82,
   "id": "0fa1078b",
   "metadata": {
    "scrolled": true
   },
   "outputs": [
    {
     "name": "stdout",
     "output_type": "stream",
     "text": [
      "                  id                                            caption  \\\n",
      "0  18227088265280124  I wish I could see a way out, but the path for...   \n",
      "1  18001978385605323  There’s an emptiness that follows when a relat...   \n",
      "2  18028155728062543  Life often feels like an uphill climb, with no...   \n",
      "3  18063719863538580  The bottle seemed like a quick escape from my ...   \n",
      "4  18008219390203733  What started as a game turned into something d...   \n",
      "5  18014434958096049  When you find out she thought you were playing...   \n",
      "6  18019842629009943  Dreams are like fragile threads, easily broken...   \n",
      "7  18049687408639342                           It gets tougher everyday   \n",
      "\n",
      "  media_type                                          media_url  \\\n",
      "0      IMAGE  https://scontent.cdninstagram.com/v/t51.29350-...   \n",
      "1      IMAGE  https://scontent.cdninstagram.com/v/t51.29350-...   \n",
      "2      IMAGE  https://scontent.cdninstagram.com/v/t51.29350-...   \n",
      "3      IMAGE  https://scontent.cdninstagram.com/v/t51.29350-...   \n",
      "4      IMAGE  https://scontent.cdninstagram.com/v/t51.29350-...   \n",
      "5      IMAGE  https://scontent.cdninstagram.com/v/t51.29350-...   \n",
      "6      IMAGE  https://scontent.cdninstagram.com/v/t51.29350-...   \n",
      "7      IMAGE  https://scontent.cdninstagram.com/v/t51.29350-...   \n",
      "\n",
      "                  timestamp  \n",
      "0  2024-05-04T13:05:43+0000  \n",
      "1  2024-05-04T13:05:02+0000  \n",
      "2  2024-05-04T13:01:15+0000  \n",
      "3  2024-05-04T12:53:06+0000  \n",
      "4  2024-05-04T12:52:00+0000  \n",
      "5  2024-05-04T12:50:31+0000  \n",
      "6  2024-05-04T12:48:04+0000  \n",
      "7  2024-05-04T10:29:34+0000  \n"
     ]
    }
   ],
   "source": [
    "print(df)"
   ]
  },
  {
   "cell_type": "code",
   "execution_count": 83,
   "id": "0b1b3b7e",
   "metadata": {},
   "outputs": [],
   "source": [
    "df.to_csv('instagram_data.csv', index=False)"
   ]
  },
  {
   "cell_type": "code",
   "execution_count": 84,
   "id": "f8840746",
   "metadata": {},
   "outputs": [],
   "source": [
    "import tensorflow as tf\n",
    "from tensorflow.keras.preprocessing.text import Tokenizer\n",
    "from sklearn.model_selection import train_test_split\n",
    "from keras.preprocessing.sequence import pad_sequences\n",
    "from keras.models import Sequential\n",
    "from keras.models import Model\n",
    "\n",
    "from keras.layers import Embedding, Bidirectional, LSTM, Dense, Input, Concatenate, Dot, Activation"
   ]
  },
  {
   "cell_type": "code",
   "execution_count": 85,
   "id": "c57386fc",
   "metadata": {},
   "outputs": [],
   "source": [
    "from ocr import get_text"
   ]
  },
  {
   "cell_type": "code",
   "execution_count": 86,
   "id": "333c42de",
   "metadata": {},
   "outputs": [],
   "source": [
    "training_data = pd.read_csv('training_data.csv')"
   ]
  },
  {
   "cell_type": "code",
   "execution_count": 87,
   "id": "d59bb3e9",
   "metadata": {},
   "outputs": [],
   "source": [
    "instagram_data = pd.read_csv('instagram_data.csv')\n"
   ]
  },
  {
   "cell_type": "code",
   "execution_count": 88,
   "id": "edae136c",
   "metadata": {},
   "outputs": [],
   "source": [
    "def fetch_carousel_items(album_id, access_token):\n",
    "    album_url = f'https://graph.instagram.com/media/{album_id}/children?fields=id,media_type,media_url,caption&access_token={access_token}'\n",
    "    response = requests.get(album_url)\n",
    "\n",
    "    if response.status_code != 200:\n",
    "        print(\"Error fetching album data:\", response.text)\n",
    "        return None\n",
    "\n",
    "    return response.json()"
   ]
  },
  {
   "cell_type": "code",
   "execution_count": 90,
   "id": "e1ca9d56",
   "metadata": {},
   "outputs": [
    {
     "name": "stdout",
     "output_type": "stream",
     "text": [
      "                   id                 timestamp  \\\n",
      "0   18227088265280124  2024-05-04T13:05:43+0000   \n",
      "1   18227088265280124  2024-05-04T13:05:43+0000   \n",
      "2   18001978385605323  2024-05-04T13:05:02+0000   \n",
      "3   18001978385605323  2024-05-04T13:05:02+0000   \n",
      "4   18028155728062543  2024-05-04T13:01:15+0000   \n",
      "5   18028155728062543  2024-05-04T13:01:15+0000   \n",
      "6   18063719863538580  2024-05-04T12:53:06+0000   \n",
      "7   18063719863538580  2024-05-04T12:53:06+0000   \n",
      "8   18008219390203733  2024-05-04T12:52:00+0000   \n",
      "9   18008219390203733  2024-05-04T12:52:00+0000   \n",
      "10  18014434958096049  2024-05-04T12:50:31+0000   \n",
      "11  18014434958096049  2024-05-04T12:50:31+0000   \n",
      "12  18019842629009943  2024-05-04T12:48:04+0000   \n",
      "13  18019842629009943  2024-05-04T12:48:04+0000   \n",
      "14  18049687408639342  2024-05-04T10:29:34+0000   \n",
      "15  18049687408639342  2024-05-04T10:29:34+0000   \n",
      "\n",
      "                                                 text  \n",
      "0   66\\n\\nlam bent, but not broken. |\\nam scarred,...  \n",
      "1   I wish I could see a way out, but the path for...  \n",
      "2   (i\\n\\n“Relationships are like —\\nglass. Someti...  \n",
      "3   There’s an emptiness that follows when a relat...  \n",
      "4   0. Xa Se St. AS MN\\n®6\\n\\nTears are words the\\...  \n",
      "5   Life often feels like an uphill climb, with no...  \n",
      "6   It’s not always the\\ntears that measure the\\np...  \n",
      "7   The bottle seemed like a quick escape from my ...  \n",
      "8   66\\nKeeping a lot to\\nmyself, because\\nit is h...  \n",
      "9   What started as a game turned into something d...  \n",
      "10  le everything changes aro\\nne | stay forever t...  \n",
      "11  When you find out she thought you were playing...  \n",
      "12  “Behind every\\nsweet smile, there\\nis a bitter...  \n",
      "13  Dreams are like fragile threads, easily broken...  \n",
      "14  Everyday it gets harder.\\n\\nEveryday it's like...  \n",
      "15                           It gets tougher everyday  \n"
     ]
    }
   ],
   "source": [
    "new_data = []\n",
    "for index, row in df.iterrows():\n",
    "    new_row = {'id': row['id'], 'timestamp': row['timestamp']}\n",
    "    flag = 0\n",
    "    if row['media_type'] == 'IMAGE':\n",
    "        # Perform OCR on the image URL\n",
    "        ocr_text = get_text(row['media_url'])\n",
    "        if ocr_text:\n",
    "            new_row['text'] = ocr_text\n",
    "            flag = 1\n",
    "        else:\n",
    "        # Use caption as text\n",
    "            new_row['text'] = row['caption']    \n",
    "    else:\n",
    "        # Use caption as text\n",
    "        new_row['text'] = row['caption']\n",
    "    new_data.append(new_row)\n",
    "    if flag == 1:\n",
    "        new_row_2 = {'id': row['id'], 'timestamp': row['timestamp'],'text':row['caption']}\n",
    "        new_data.append(new_row_2)\n",
    "\n",
    "# Create new DataFrame\n",
    "new_df = pd.DataFrame(new_data)\n",
    "print(new_df)"
   ]
  },
  {
   "cell_type": "code",
   "execution_count": 91,
   "id": "fc7d9c9f",
   "metadata": {},
   "outputs": [],
   "source": [
    "new_df.to_csv('test.csv')"
   ]
  },
  {
   "cell_type": "code",
   "execution_count": 92,
   "id": "f9271148",
   "metadata": {},
   "outputs": [],
   "source": [
    "new_df.dropna(subset=['text'], inplace=True)\n",
    "X_train = training_data['caption'].astype(str)\n",
    "y_train = training_data['depression_label']\n",
    "X_test = new_df['text'].astype(str)"
   ]
  },
  {
   "cell_type": "code",
   "execution_count": 93,
   "id": "fae6e4bf",
   "metadata": {},
   "outputs": [],
   "source": [
    "tokenizer = Tokenizer()\n",
    "tokenizer.fit_on_texts(X_train)\n",
    "X_train_seq = tokenizer.texts_to_sequences(X_train)\n",
    "X_test_seq = tokenizer.texts_to_sequences(X_test)"
   ]
  },
  {
   "cell_type": "code",
   "execution_count": 94,
   "id": "00446c59",
   "metadata": {},
   "outputs": [],
   "source": [
    "max_len = 100  # Define your maximum sequence length\n",
    "X_train_pad = pad_sequences(X_train_seq, maxlen=max_len, padding='post')\n",
    "X_test_pad = pad_sequences(X_test_seq, maxlen=max_len, padding='post')"
   ]
  },
  {
   "cell_type": "code",
   "execution_count": 95,
   "id": "c104f5fc",
   "metadata": {},
   "outputs": [],
   "source": [
    "input_layer = Input(shape=(max_len,))\n",
    "embedding_layer = Embedding(input_dim=len(tokenizer.word_index)+1, output_dim=100)(input_layer)\n",
    "lstm_layer = Bidirectional(LSTM(64, return_sequences=True))(embedding_layer)\n",
    "attention = Dense(1, activation='tanh')(lstm_layer)\n",
    "attention = Activation('sigmoid')(attention)\n",
    "context = Dot(axes=1)([attention, lstm_layer])\n",
    "output_layer = Dense(1, activation='sigmoid')(context)\n",
    "\n",
    "model = Model(inputs=[input_layer], outputs=output_layer)"
   ]
  },
  {
   "cell_type": "code",
   "execution_count": 96,
   "id": "e7624659",
   "metadata": {},
   "outputs": [],
   "source": [
    "model.compile(optimizer='adam', loss='binary_crossentropy', metrics=['accuracy'])"
   ]
  },
  {
   "cell_type": "code",
   "execution_count": 97,
   "id": "515d795d",
   "metadata": {},
   "outputs": [
    {
     "name": "stdout",
     "output_type": "stream",
     "text": [
      "Epoch 1/10\n",
      "\u001b[1m121/121\u001b[0m \u001b[32m━━━━━━━━━━━━━━━━━━━━\u001b[0m\u001b[37m\u001b[0m \u001b[1m8s\u001b[0m 44ms/step - accuracy: 0.8048 - loss: 0.5943\n",
      "Epoch 2/10\n",
      "\u001b[1m121/121\u001b[0m \u001b[32m━━━━━━━━━━━━━━━━━━━━\u001b[0m\u001b[37m\u001b[0m \u001b[1m5s\u001b[0m 44ms/step - accuracy: 0.9616 - loss: 0.1208\n",
      "Epoch 3/10\n",
      "\u001b[1m121/121\u001b[0m \u001b[32m━━━━━━━━━━━━━━━━━━━━\u001b[0m\u001b[37m\u001b[0m \u001b[1m5s\u001b[0m 44ms/step - accuracy: 0.9830 - loss: 0.0629\n",
      "Epoch 4/10\n",
      "\u001b[1m121/121\u001b[0m \u001b[32m━━━━━━━━━━━━━━━━━━━━\u001b[0m\u001b[37m\u001b[0m \u001b[1m6s\u001b[0m 50ms/step - accuracy: 0.9896 - loss: 0.0360\n",
      "Epoch 5/10\n",
      "\u001b[1m121/121\u001b[0m \u001b[32m━━━━━━━━━━━━━━━━━━━━\u001b[0m\u001b[37m\u001b[0m \u001b[1m6s\u001b[0m 52ms/step - accuracy: 0.9905 - loss: 0.0328\n",
      "Epoch 6/10\n",
      "\u001b[1m121/121\u001b[0m \u001b[32m━━━━━━━━━━━━━━━━━━━━\u001b[0m\u001b[37m\u001b[0m \u001b[1m6s\u001b[0m 50ms/step - accuracy: 0.9925 - loss: 0.0229\n",
      "Epoch 7/10\n",
      "\u001b[1m121/121\u001b[0m \u001b[32m━━━━━━━━━━━━━━━━━━━━\u001b[0m\u001b[37m\u001b[0m \u001b[1m6s\u001b[0m 51ms/step - accuracy: 0.9918 - loss: 0.0326\n",
      "Epoch 8/10\n",
      "\u001b[1m121/121\u001b[0m \u001b[32m━━━━━━━━━━━━━━━━━━━━\u001b[0m\u001b[37m\u001b[0m \u001b[1m6s\u001b[0m 52ms/step - accuracy: 0.9946 - loss: 0.0219\n",
      "Epoch 9/10\n",
      "\u001b[1m121/121\u001b[0m \u001b[32m━━━━━━━━━━━━━━━━━━━━\u001b[0m\u001b[37m\u001b[0m \u001b[1m6s\u001b[0m 50ms/step - accuracy: 0.9959 - loss: 0.0135\n",
      "Epoch 10/10\n",
      "\u001b[1m121/121\u001b[0m \u001b[32m━━━━━━━━━━━━━━━━━━━━\u001b[0m\u001b[37m\u001b[0m \u001b[1m6s\u001b[0m 50ms/step - accuracy: 0.9977 - loss: 0.0093\n"
     ]
    },
    {
     "data": {
      "text/plain": [
       "<keras.src.callbacks.history.History at 0x113859524d0>"
      ]
     },
     "execution_count": 97,
     "metadata": {},
     "output_type": "execute_result"
    }
   ],
   "source": [
    "model.fit(X_train_pad, y_train, epochs=10, batch_size=64)"
   ]
  },
  {
   "cell_type": "code",
   "execution_count": 100,
   "id": "c221f47b",
   "metadata": {},
   "outputs": [
    {
     "name": "stdout",
     "output_type": "stream",
     "text": [
      "\u001b[1m1/1\u001b[0m \u001b[32m━━━━━━━━━━━━━━━━━━━━\u001b[0m\u001b[37m\u001b[0m \u001b[1m0s\u001b[0m 24ms/step\n"
     ]
    }
   ],
   "source": [
    "predicted_labels = model.predict(X_test_pad)"
   ]
  },
  {
   "cell_type": "code",
   "execution_count": 101,
   "id": "c4d98655",
   "metadata": {},
   "outputs": [],
   "source": [
    "new_df['predicted_depression_label'] = predicted_labels.reshape(-1)\n"
   ]
  },
  {
   "cell_type": "code",
   "execution_count": null,
   "id": "39540bc4",
   "metadata": {},
   "outputs": [],
   "source": []
  },
  {
   "cell_type": "code",
   "execution_count": 102,
   "id": "04d49a6d",
   "metadata": {},
   "outputs": [
    {
     "name": "stdout",
     "output_type": "stream",
     "text": [
      "\n",
      "Depression text with label 1:\n",
      "Everyday it gets harder.\n",
      "\n",
      "Everyday it's like a nightmare\n",
      "progressing on.\n",
      "\n",
      "Everyday is another prayer\n",
      "echohing from my bones\n",
      "asking God\n",
      "to take me now.\n",
      "\n",
      "Everyday I close up more.\n",
      "\n",
      "Everyday it gets more impossible.\n",
      "\n",
      "Everyday I feel myself die some more.\n",
      "\n",
      "Everyday | lay on my bed\n",
      "wondering how\n",
      "I'll leave this hell.\n",
      "\n",
      "I've never felt so much pain.\n",
      "\n"
     ]
    }
   ],
   "source": [
    "depressing_captions = new_df[new_df['predicted_depression_label'] > 0.9]['text']\n",
    "\n",
    "depression_text_with_one = new_df[new_df['predicted_depression_label'] == 1]['text'].iloc[0] if not new_df[new_df['predicted_depression_label'] == 1].empty else None\n",
    "\n",
    "if depression_text_with_one is not None:\n",
    "    print(\"\\nDepression text with label 1:\")\n",
    "    print(depression_text_with_one)\n",
    "else:\n",
    "    print(\"\\nNo text with predicted depression label equal to 1 found.\")\n"
   ]
  },
  {
   "cell_type": "code",
   "execution_count": 103,
   "id": "b6981c3e",
   "metadata": {},
   "outputs": [
    {
     "name": "stdout",
     "output_type": "stream",
     "text": [
      "66\n",
      "\n",
      "lam bent, but not broken. |\n",
      "am scarred, but not\n",
      "disfigured. | am sad, but not\n",
      "hopeless. | am tired, but not\n",
      "powerless. | am angry, but\n",
      "not bitter. | am depressed,\n",
      "but not giving up\n",
      "\n",
      "A HopeQure\n",
      "\n",
      "Life often feels like an uphill climb, with no clear end in sight. Every day brings a new set of challenges, and sometimes it feels like I'm stuck in a cycle that never seems to break. The weight of expectations, both my own and those of others, can be so crushing. It's hard to breathe when every step feels like it takes me further from where I want to be.\n",
      "What started as a game turned into something darker. Gambling addiction turned my dreams into debts. Every bet took me further from the life I wanted\n",
      "le everything changes aro\n",
      "ne | stay forever the same\n",
      "\\ttempt now and then. Cu\n",
      "renever the urge hits as tl\n",
      "cle repeats. when will it e\\\n",
      "\n",
      "end 7)\n",
      "\n",
      "Depression-cc yn.tumblir.com\n",
      "\n",
      "Confession #5398\n",
      "\n",
      "Everyday it gets harder.\n",
      "\n",
      "Everyday it's like a nightmare\n",
      "progressing on.\n",
      "\n",
      "Everyday is another prayer\n",
      "echohing from my bones\n",
      "asking God\n",
      "to take me now.\n",
      "\n",
      "Everyday I close up more.\n",
      "\n",
      "Everyday it gets more impossible.\n",
      "\n",
      "Everyday I feel myself die some more.\n",
      "\n",
      "Everyday | lay on my bed\n",
      "wondering how\n",
      "I'll leave this hell.\n",
      "\n",
      "I've never felt so much pain.\n",
      "\n"
     ]
    }
   ],
   "source": [
    "for text in depressing_captions:\n",
    "    print(text)\n"
   ]
  },
  {
   "cell_type": "code",
   "execution_count": null,
   "id": "1d4401b7",
   "metadata": {},
   "outputs": [],
   "source": []
  },
  {
   "cell_type": "code",
   "execution_count": 105,
   "id": "b2ff5336",
   "metadata": {},
   "outputs": [
    {
     "name": "stdout",
     "output_type": "stream",
     "text": [
      "Defaulting to user installation because normal site-packages is not writeable\n",
      "Requirement already satisfied: openai==0.28 in c:\\users\\joyal\\appdata\\roaming\\python\\python311\\site-packages (0.28.0)\n",
      "Requirement already satisfied: requests>=2.20 in c:\\programdata\\anaconda3\\lib\\site-packages (from openai==0.28) (2.31.0)\n",
      "Requirement already satisfied: tqdm in c:\\programdata\\anaconda3\\lib\\site-packages (from openai==0.28) (4.65.0)\n",
      "Requirement already satisfied: aiohttp in c:\\programdata\\anaconda3\\lib\\site-packages (from openai==0.28) (3.8.5)\n",
      "Requirement already satisfied: charset-normalizer<4,>=2 in c:\\programdata\\anaconda3\\lib\\site-packages (from requests>=2.20->openai==0.28) (2.0.4)\n",
      "Requirement already satisfied: idna<4,>=2.5 in c:\\programdata\\anaconda3\\lib\\site-packages (from requests>=2.20->openai==0.28) (3.4)\n",
      "Requirement already satisfied: urllib3<3,>=1.21.1 in c:\\programdata\\anaconda3\\lib\\site-packages (from requests>=2.20->openai==0.28) (1.26.16)\n",
      "Requirement already satisfied: certifi>=2017.4.17 in c:\\programdata\\anaconda3\\lib\\site-packages (from requests>=2.20->openai==0.28) (2023.7.22)\n",
      "Requirement already satisfied: attrs>=17.3.0 in c:\\programdata\\anaconda3\\lib\\site-packages (from aiohttp->openai==0.28) (22.1.0)\n",
      "Requirement already satisfied: multidict<7.0,>=4.5 in c:\\programdata\\anaconda3\\lib\\site-packages (from aiohttp->openai==0.28) (6.0.2)\n",
      "Requirement already satisfied: async-timeout<5.0,>=4.0.0a3 in c:\\programdata\\anaconda3\\lib\\site-packages (from aiohttp->openai==0.28) (4.0.2)\n",
      "Requirement already satisfied: yarl<2.0,>=1.0 in c:\\programdata\\anaconda3\\lib\\site-packages (from aiohttp->openai==0.28) (1.8.1)\n",
      "Requirement already satisfied: frozenlist>=1.1.1 in c:\\programdata\\anaconda3\\lib\\site-packages (from aiohttp->openai==0.28) (1.3.3)\n",
      "Requirement already satisfied: aiosignal>=1.1.2 in c:\\programdata\\anaconda3\\lib\\site-packages (from aiohttp->openai==0.28) (1.2.0)\n",
      "Requirement already satisfied: colorama in c:\\programdata\\anaconda3\\lib\\site-packages (from tqdm->openai==0.28) (0.4.6)\n",
      "Note: you may need to restart the kernel to use updated packages.\n"
     ]
    }
   ],
   "source": [
    "%pip install openai==0.28\n",
    "import openai\n",
    "import os\n",
    "openai.api_key = 'insert_your_api_key'\n",
    "\n",
    "\n",
    "def get_gpt_response(text):\n",
    "    # Create a messages list for the Chat Completion API\n",
    "    messages = [\n",
    "        {\n",
    "            \"role\": \"system\",\n",
    "            \"content\": \"You are a helpful assistant that provides compassionate responses and includes links to online mental health resources.\"\n",
    "        },\n",
    "        {\n",
    "            \"role\": \"user\",\n",
    "            \"content\": f\"The following text expresses feelings of sadness or depression:\\n{text}\\n\"\n",
    "        }\n",
    "    ]\n",
    "    \n",
    "\n",
    "    response = openai.ChatCompletion.create(\n",
    "        model=\"gpt-3.5-turbo\",\n",
    "        messages=messages,\n",
    "        temperature=0.7,  \n",
    "        max_tokens=100,  \n",
    "        top_p=1.0,  \n",
    "        frequency_penalty=0,  \n",
    "        presence_penalty=0  \n",
    "    )\n",
    "    \n",
    "   \n",
    "    generated_response = response.choices[0].message['content']\n",
    "    \n",
    "\n",
    "    print(\"Generated Response:\")\n",
    "    print(generated_response)\n",
    "    \n",
    "\n",
    "    return generated_response\n"
   ]
  },
  {
   "cell_type": "code",
   "execution_count": 106,
   "id": "470fde1f",
   "metadata": {},
   "outputs": [
    {
     "name": "stdout",
     "output_type": "stream",
     "text": [
      "Generated Response:\n",
      "I'm sorry to hear that you're feeling this way. It sounds like you're going through a really tough time, but please know that you are not alone. It's important to reach out for help and support when you're feeling overwhelmed with sadness or depression.\n",
      "\n",
      "If you're comfortable, talking to a mental health professional can be very beneficial. They can provide you with coping strategies, support, and guidance to help you through this difficult time. You can also consider reaching out to a trusted friend or\n"
     ]
    }
   ],
   "source": [
    "response = get_gpt_response(text)"
   ]
  },
  {
   "cell_type": "code",
   "execution_count": 107,
   "id": "3c78fac6",
   "metadata": {},
   "outputs": [
    {
     "name": "stdout",
     "output_type": "stream",
     "text": [
      "I'm sorry to hear that you're feeling this way. It sounds like you're going through a really tough time, but please know that you are not alone. It's important to reach out for help and support when you're feeling overwhelmed with sadness or depression.\n",
      "\n",
      "If you're comfortable, talking to a mental health professional can be very beneficial. They can provide you with coping strategies, support, and guidance to help you through this difficult time. You can also consider reaching out to a trusted friend or\n"
     ]
    }
   ],
   "source": [
    "print(response)"
   ]
  },
  {
   "cell_type": "code",
   "execution_count": 108,
   "id": "bf9e810b",
   "metadata": {},
   "outputs": [
    {
     "name": "stdout",
     "output_type": "stream",
     "text": [
      "[[[9.9998784e-01]]\n",
      "\n",
      " [[2.4398874e-01]]\n",
      "\n",
      " [[1.5543386e-01]]\n",
      "\n",
      " [[3.6070293e-01]]\n",
      "\n",
      " [[9.2759803e-02]]\n",
      "\n",
      " [[9.9999535e-01]]\n",
      "\n",
      " [[1.9927046e-01]]\n",
      "\n",
      " [[6.9403285e-01]]\n",
      "\n",
      " [[1.1790399e-01]]\n",
      "\n",
      " [[9.9932855e-01]]\n",
      "\n",
      " [[9.9996775e-01]]\n",
      "\n",
      " [[1.5434223e-05]]\n",
      "\n",
      " [[4.4897240e-01]]\n",
      "\n",
      " [[8.9659011e-03]]\n",
      "\n",
      " [[1.0000000e+00]]\n",
      "\n",
      " [[4.3256730e-01]]]\n"
     ]
    }
   ],
   "source": [
    "print(predicted_labels)"
   ]
  },
  {
   "cell_type": "code",
   "execution_count": 109,
   "id": "fcdd321a",
   "metadata": {},
   "outputs": [
    {
     "data": {
      "text/html": [
       "<div>\n",
       "<style scoped>\n",
       "    .dataframe tbody tr th:only-of-type {\n",
       "        vertical-align: middle;\n",
       "    }\n",
       "\n",
       "    .dataframe tbody tr th {\n",
       "        vertical-align: top;\n",
       "    }\n",
       "\n",
       "    .dataframe thead th {\n",
       "        text-align: right;\n",
       "    }\n",
       "</style>\n",
       "<table border=\"1\" class=\"dataframe\">\n",
       "  <thead>\n",
       "    <tr style=\"text-align: right;\">\n",
       "      <th></th>\n",
       "      <th>id</th>\n",
       "      <th>timestamp</th>\n",
       "      <th>text</th>\n",
       "      <th>predicted_depression_label</th>\n",
       "    </tr>\n",
       "  </thead>\n",
       "  <tbody>\n",
       "    <tr>\n",
       "      <th>0</th>\n",
       "      <td>18227088265280124</td>\n",
       "      <td>2024-05-04T13:05:43+0000</td>\n",
       "      <td>66\\n\\nlam bent, but not broken. |\\nam scarred,...</td>\n",
       "      <td>0.999988</td>\n",
       "    </tr>\n",
       "    <tr>\n",
       "      <th>1</th>\n",
       "      <td>18227088265280124</td>\n",
       "      <td>2024-05-04T13:05:43+0000</td>\n",
       "      <td>I wish I could see a way out, but the path for...</td>\n",
       "      <td>0.243989</td>\n",
       "    </tr>\n",
       "    <tr>\n",
       "      <th>2</th>\n",
       "      <td>18001978385605323</td>\n",
       "      <td>2024-05-04T13:05:02+0000</td>\n",
       "      <td>(i\\n\\n“Relationships are like —\\nglass. Someti...</td>\n",
       "      <td>0.155434</td>\n",
       "    </tr>\n",
       "    <tr>\n",
       "      <th>3</th>\n",
       "      <td>18001978385605323</td>\n",
       "      <td>2024-05-04T13:05:02+0000</td>\n",
       "      <td>There’s an emptiness that follows when a relat...</td>\n",
       "      <td>0.360703</td>\n",
       "    </tr>\n",
       "    <tr>\n",
       "      <th>4</th>\n",
       "      <td>18028155728062543</td>\n",
       "      <td>2024-05-04T13:01:15+0000</td>\n",
       "      <td>0. Xa Se St. AS MN\\n®6\\n\\nTears are words the\\...</td>\n",
       "      <td>0.092760</td>\n",
       "    </tr>\n",
       "    <tr>\n",
       "      <th>5</th>\n",
       "      <td>18028155728062543</td>\n",
       "      <td>2024-05-04T13:01:15+0000</td>\n",
       "      <td>Life often feels like an uphill climb, with no...</td>\n",
       "      <td>0.999995</td>\n",
       "    </tr>\n",
       "    <tr>\n",
       "      <th>6</th>\n",
       "      <td>18063719863538580</td>\n",
       "      <td>2024-05-04T12:53:06+0000</td>\n",
       "      <td>It’s not always the\\ntears that measure the\\np...</td>\n",
       "      <td>0.199270</td>\n",
       "    </tr>\n",
       "    <tr>\n",
       "      <th>7</th>\n",
       "      <td>18063719863538580</td>\n",
       "      <td>2024-05-04T12:53:06+0000</td>\n",
       "      <td>The bottle seemed like a quick escape from my ...</td>\n",
       "      <td>0.694033</td>\n",
       "    </tr>\n",
       "    <tr>\n",
       "      <th>8</th>\n",
       "      <td>18008219390203733</td>\n",
       "      <td>2024-05-04T12:52:00+0000</td>\n",
       "      <td>66\\nKeeping a lot to\\nmyself, because\\nit is h...</td>\n",
       "      <td>0.117904</td>\n",
       "    </tr>\n",
       "    <tr>\n",
       "      <th>9</th>\n",
       "      <td>18008219390203733</td>\n",
       "      <td>2024-05-04T12:52:00+0000</td>\n",
       "      <td>What started as a game turned into something d...</td>\n",
       "      <td>0.999329</td>\n",
       "    </tr>\n",
       "    <tr>\n",
       "      <th>10</th>\n",
       "      <td>18014434958096049</td>\n",
       "      <td>2024-05-04T12:50:31+0000</td>\n",
       "      <td>le everything changes aro\\nne | stay forever t...</td>\n",
       "      <td>0.999968</td>\n",
       "    </tr>\n",
       "    <tr>\n",
       "      <th>11</th>\n",
       "      <td>18014434958096049</td>\n",
       "      <td>2024-05-04T12:50:31+0000</td>\n",
       "      <td>When you find out she thought you were playing...</td>\n",
       "      <td>0.000015</td>\n",
       "    </tr>\n",
       "    <tr>\n",
       "      <th>12</th>\n",
       "      <td>18019842629009943</td>\n",
       "      <td>2024-05-04T12:48:04+0000</td>\n",
       "      <td>“Behind every\\nsweet smile, there\\nis a bitter...</td>\n",
       "      <td>0.448972</td>\n",
       "    </tr>\n",
       "    <tr>\n",
       "      <th>13</th>\n",
       "      <td>18019842629009943</td>\n",
       "      <td>2024-05-04T12:48:04+0000</td>\n",
       "      <td>Dreams are like fragile threads, easily broken...</td>\n",
       "      <td>0.008966</td>\n",
       "    </tr>\n",
       "    <tr>\n",
       "      <th>14</th>\n",
       "      <td>18049687408639342</td>\n",
       "      <td>2024-05-04T10:29:34+0000</td>\n",
       "      <td>Everyday it gets harder.\\n\\nEveryday it's like...</td>\n",
       "      <td>1.000000</td>\n",
       "    </tr>\n",
       "    <tr>\n",
       "      <th>15</th>\n",
       "      <td>18049687408639342</td>\n",
       "      <td>2024-05-04T10:29:34+0000</td>\n",
       "      <td>It gets tougher everyday</td>\n",
       "      <td>0.432567</td>\n",
       "    </tr>\n",
       "  </tbody>\n",
       "</table>\n",
       "</div>"
      ],
      "text/plain": [
       "                   id                 timestamp  \\\n",
       "0   18227088265280124  2024-05-04T13:05:43+0000   \n",
       "1   18227088265280124  2024-05-04T13:05:43+0000   \n",
       "2   18001978385605323  2024-05-04T13:05:02+0000   \n",
       "3   18001978385605323  2024-05-04T13:05:02+0000   \n",
       "4   18028155728062543  2024-05-04T13:01:15+0000   \n",
       "5   18028155728062543  2024-05-04T13:01:15+0000   \n",
       "6   18063719863538580  2024-05-04T12:53:06+0000   \n",
       "7   18063719863538580  2024-05-04T12:53:06+0000   \n",
       "8   18008219390203733  2024-05-04T12:52:00+0000   \n",
       "9   18008219390203733  2024-05-04T12:52:00+0000   \n",
       "10  18014434958096049  2024-05-04T12:50:31+0000   \n",
       "11  18014434958096049  2024-05-04T12:50:31+0000   \n",
       "12  18019842629009943  2024-05-04T12:48:04+0000   \n",
       "13  18019842629009943  2024-05-04T12:48:04+0000   \n",
       "14  18049687408639342  2024-05-04T10:29:34+0000   \n",
       "15  18049687408639342  2024-05-04T10:29:34+0000   \n",
       "\n",
       "                                                 text  \\\n",
       "0   66\\n\\nlam bent, but not broken. |\\nam scarred,...   \n",
       "1   I wish I could see a way out, but the path for...   \n",
       "2   (i\\n\\n“Relationships are like —\\nglass. Someti...   \n",
       "3   There’s an emptiness that follows when a relat...   \n",
       "4   0. Xa Se St. AS MN\\n®6\\n\\nTears are words the\\...   \n",
       "5   Life often feels like an uphill climb, with no...   \n",
       "6   It’s not always the\\ntears that measure the\\np...   \n",
       "7   The bottle seemed like a quick escape from my ...   \n",
       "8   66\\nKeeping a lot to\\nmyself, because\\nit is h...   \n",
       "9   What started as a game turned into something d...   \n",
       "10  le everything changes aro\\nne | stay forever t...   \n",
       "11  When you find out she thought you were playing...   \n",
       "12  “Behind every\\nsweet smile, there\\nis a bitter...   \n",
       "13  Dreams are like fragile threads, easily broken...   \n",
       "14  Everyday it gets harder.\\n\\nEveryday it's like...   \n",
       "15                           It gets tougher everyday   \n",
       "\n",
       "    predicted_depression_label  \n",
       "0                     0.999988  \n",
       "1                     0.243989  \n",
       "2                     0.155434  \n",
       "3                     0.360703  \n",
       "4                     0.092760  \n",
       "5                     0.999995  \n",
       "6                     0.199270  \n",
       "7                     0.694033  \n",
       "8                     0.117904  \n",
       "9                     0.999329  \n",
       "10                    0.999968  \n",
       "11                    0.000015  \n",
       "12                    0.448972  \n",
       "13                    0.008966  \n",
       "14                    1.000000  \n",
       "15                    0.432567  "
      ]
     },
     "execution_count": 109,
     "metadata": {},
     "output_type": "execute_result"
    }
   ],
   "source": [
    "new_df"
   ]
  },
  {
   "cell_type": "code",
   "execution_count": 110,
   "id": "b6d9ea7d",
   "metadata": {},
   "outputs": [],
   "source": [
    "new_df.to_csv('forpurp.csv')"
   ]
  },
  {
   "cell_type": "code",
   "execution_count": 111,
   "id": "b74a8900",
   "metadata": {},
   "outputs": [
    {
     "name": "stdout",
     "output_type": "stream",
     "text": [
      "Epoch 1/10\n",
      "\u001b[1m97/97\u001b[0m \u001b[32m━━━━━━━━━━━━━━━━━━━━\u001b[0m\u001b[37m\u001b[0m \u001b[1m11s\u001b[0m 72ms/step - accuracy: 0.9949 - loss: 0.0211 - val_accuracy: 0.9910 - val_loss: 0.0327\n",
      "Epoch 2/10\n",
      "\u001b[1m97/97\u001b[0m \u001b[32m━━━━━━━━━━━━━━━━━━━━\u001b[0m\u001b[37m\u001b[0m \u001b[1m7s\u001b[0m 67ms/step - accuracy: 0.9952 - loss: 0.0228 - val_accuracy: 0.9935 - val_loss: 0.0162\n",
      "Epoch 3/10\n",
      "\u001b[1m97/97\u001b[0m \u001b[32m━━━━━━━━━━━━━━━━━━━━\u001b[0m\u001b[37m\u001b[0m \u001b[1m7s\u001b[0m 70ms/step - accuracy: 0.9993 - loss: 0.0037 - val_accuracy: 0.9929 - val_loss: 0.0210\n",
      "Epoch 4/10\n",
      "\u001b[1m97/97\u001b[0m \u001b[32m━━━━━━━━━━━━━━━━━━━━\u001b[0m\u001b[37m\u001b[0m \u001b[1m6s\u001b[0m 65ms/step - accuracy: 0.9994 - loss: 0.0035 - val_accuracy: 0.9948 - val_loss: 0.0279\n",
      "Epoch 5/10\n",
      "\u001b[1m97/97\u001b[0m \u001b[32m━━━━━━━━━━━━━━━━━━━━\u001b[0m\u001b[37m\u001b[0m \u001b[1m6s\u001b[0m 65ms/step - accuracy: 0.9992 - loss: 0.0071 - val_accuracy: 0.9942 - val_loss: 0.0376\n",
      "Epoch 5: early stopping\n",
      "Epoch 1/10\n",
      "\u001b[1m97/97\u001b[0m \u001b[32m━━━━━━━━━━━━━━━━━━━━\u001b[0m\u001b[37m\u001b[0m \u001b[1m12s\u001b[0m 72ms/step - accuracy: 0.9970 - loss: 0.0241 - val_accuracy: 1.0000 - val_loss: 2.6554e-04\n",
      "Epoch 2/10\n",
      "\u001b[1m97/97\u001b[0m \u001b[32m━━━━━━━━━━━━━━━━━━━━\u001b[0m\u001b[37m\u001b[0m \u001b[1m6s\u001b[0m 65ms/step - accuracy: 0.9972 - loss: 0.0141 - val_accuracy: 0.9994 - val_loss: 0.0070\n",
      "Epoch 3/10\n",
      "\u001b[1m97/97\u001b[0m \u001b[32m━━━━━━━━━━━━━━━━━━━━\u001b[0m\u001b[37m\u001b[0m \u001b[1m6s\u001b[0m 64ms/step - accuracy: 0.9978 - loss: 0.0081 - val_accuracy: 0.9974 - val_loss: 0.0113\n",
      "Epoch 4/10\n",
      "\u001b[1m97/97\u001b[0m \u001b[32m━━━━━━━━━━━━━━━━━━━━\u001b[0m\u001b[37m\u001b[0m \u001b[1m6s\u001b[0m 64ms/step - accuracy: 0.9990 - loss: 0.0033 - val_accuracy: 0.9961 - val_loss: 0.0347\n",
      "Epoch 4: early stopping\n",
      "Epoch 1/10\n",
      "\u001b[1m97/97\u001b[0m \u001b[32m━━━━━━━━━━━━━━━━━━━━\u001b[0m\u001b[37m\u001b[0m \u001b[1m10812s\u001b[0m 113s/step - accuracy: 0.9918 - loss: 0.0899 - val_accuracy: 0.9987 - val_loss: 0.0109\n",
      "Epoch 2/10\n",
      "\u001b[1m97/97\u001b[0m \u001b[32m━━━━━━━━━━━━━━━━━━━━\u001b[0m\u001b[37m\u001b[0m \u001b[1m281648s\u001b[0m 2934s/step - accuracy: 0.9977 - loss: 0.0121 - val_accuracy: 0.9994 - val_loss: 0.0023\n",
      "Epoch 3/10\n",
      "\u001b[1m97/97\u001b[0m \u001b[32m━━━━━━━━━━━━━━━━━━━━\u001b[0m\u001b[37m\u001b[0m \u001b[1m9s\u001b[0m 87ms/step - accuracy: 0.9986 - loss: 0.0055 - val_accuracy: 0.9968 - val_loss: 0.0075\n",
      "Epoch 4/10\n",
      "\u001b[1m97/97\u001b[0m \u001b[32m━━━━━━━━━━━━━━━━━━━━\u001b[0m\u001b[37m\u001b[0m \u001b[1m8s\u001b[0m 80ms/step - accuracy: 0.9993 - loss: 0.0025 - val_accuracy: 0.9994 - val_loss: 0.0029\n",
      "Epoch 5/10\n",
      "\u001b[1m97/97\u001b[0m \u001b[32m━━━━━━━━━━━━━━━━━━━━\u001b[0m\u001b[37m\u001b[0m \u001b[1m8s\u001b[0m 78ms/step - accuracy: 0.9999 - loss: 6.9519e-04 - val_accuracy: 0.9994 - val_loss: 0.0013\n",
      "Epoch 6/10\n",
      "\u001b[1m97/97\u001b[0m \u001b[32m━━━━━━━━━━━━━━━━━━━━\u001b[0m\u001b[37m\u001b[0m \u001b[1m7s\u001b[0m 77ms/step - accuracy: 0.9993 - loss: 6.4995e-04 - val_accuracy: 0.9994 - val_loss: 0.0043\n",
      "Epoch 7/10\n",
      "\u001b[1m97/97\u001b[0m \u001b[32m━━━━━━━━━━━━━━━━━━━━\u001b[0m\u001b[37m\u001b[0m \u001b[1m7s\u001b[0m 76ms/step - accuracy: 1.0000 - loss: 1.7867e-05 - val_accuracy: 0.9981 - val_loss: 0.0065\n",
      "Epoch 8/10\n",
      "\u001b[1m97/97\u001b[0m \u001b[32m━━━━━━━━━━━━━━━━━━━━\u001b[0m\u001b[37m\u001b[0m \u001b[1m587s\u001b[0m 6s/step - accuracy: 1.0000 - loss: 9.6219e-06 - val_accuracy: 0.9981 - val_loss: 0.0065\n",
      "Epoch 8: early stopping\n",
      "Epoch 1/10\n",
      "\u001b[1m97/97\u001b[0m \u001b[32m━━━━━━━━━━━━━━━━━━━━\u001b[0m\u001b[37m\u001b[0m \u001b[1m9s\u001b[0m 59ms/step - accuracy: 0.9989 - loss: 0.0054 - val_accuracy: 1.0000 - val_loss: 2.7777e-04\n",
      "Epoch 2/10\n",
      "\u001b[1m97/97\u001b[0m \u001b[32m━━━━━━━━━━━━━━━━━━━━\u001b[0m\u001b[37m\u001b[0m \u001b[1m6s\u001b[0m 57ms/step - accuracy: 1.0000 - loss: 9.3424e-05 - val_accuracy: 0.9994 - val_loss: 0.0053\n",
      "Epoch 3/10\n",
      "\u001b[1m97/97\u001b[0m \u001b[32m━━━━━━━━━━━━━━━━━━━━\u001b[0m\u001b[37m\u001b[0m \u001b[1m6s\u001b[0m 58ms/step - accuracy: 0.9966 - loss: 0.0136 - val_accuracy: 0.9987 - val_loss: 0.0097\n",
      "Epoch 4/10\n",
      "\u001b[1m97/97\u001b[0m \u001b[32m━━━━━━━━━━━━━━━━━━━━\u001b[0m\u001b[37m\u001b[0m \u001b[1m5s\u001b[0m 49ms/step - accuracy: 0.9993 - loss: 0.0026 - val_accuracy: 0.9994 - val_loss: 0.0017\n",
      "Epoch 4: early stopping\n",
      "Epoch 1/10\n",
      "\u001b[1m97/97\u001b[0m \u001b[32m━━━━━━━━━━━━━━━━━━━━\u001b[0m\u001b[37m\u001b[0m \u001b[1m7s\u001b[0m 48ms/step - accuracy: 0.9984 - loss: 0.0105 - val_accuracy: 0.9987 - val_loss: 0.0035\n",
      "Epoch 2/10\n",
      "\u001b[1m97/97\u001b[0m \u001b[32m━━━━━━━━━━━━━━━━━━━━\u001b[0m\u001b[37m\u001b[0m \u001b[1m4s\u001b[0m 42ms/step - accuracy: 0.9970 - loss: 0.0103 - val_accuracy: 0.9968 - val_loss: 0.0128\n",
      "Epoch 3/10\n",
      "\u001b[1m97/97\u001b[0m \u001b[32m━━━━━━━━━━━━━━━━━━━━\u001b[0m\u001b[37m\u001b[0m \u001b[1m4s\u001b[0m 42ms/step - accuracy: 0.9998 - loss: 0.0011 - val_accuracy: 0.9961 - val_loss: 0.0196\n",
      "Epoch 4/10\n",
      "\u001b[1m97/97\u001b[0m \u001b[32m━━━━━━━━━━━━━━━━━━━━\u001b[0m\u001b[37m\u001b[0m \u001b[1m4s\u001b[0m 42ms/step - accuracy: 1.0000 - loss: 9.1569e-05 - val_accuracy: 0.9961 - val_loss: 0.0213\n",
      "Epoch 4: early stopping\n",
      "Cross-Validation Results:\n",
      "Fold 1: Loss = 0.03760689124464989, Accuracy = 0.994182288646698\n",
      "Fold 2: Loss = 0.03469402715563774, Accuracy = 0.9961190223693848\n",
      "Fold 3: Loss = 0.006493149325251579, Accuracy = 0.9980595111846924\n",
      "Fold 4: Loss = 0.0017436817288398743, Accuracy = 0.9993531703948975\n",
      "Fold 5: Loss = 0.021304471418261528, Accuracy = 0.9961190223693848\n"
     ]
    }
   ],
   "source": [
    "from sklearn.model_selection import KFold\n",
    "from keras.callbacks import EarlyStopping\n",
    "import numpy as np\n",
    "\n",
    "\n",
    "training_data = pd.read_csv('training_data.csv')\n",
    "\n",
    "X_train = training_data['caption'].astype(str)\n",
    "y_train = training_data['depression_label']\n",
    "\n",
    "\n",
    "X_train_seq = tokenizer.texts_to_sequences(X_train)\n",
    "X_train_pad = pad_sequences(X_train_seq, maxlen=max_len, padding='post')\n",
    "\n",
    "# K-Fold Cross-Validation\n",
    "kf = KFold(n_splits=5, shuffle=True, random_state=42)  \n",
    "cross_val_results = []\n",
    "\n",
    "for train_index, val_index in kf.split(X_train_pad):\n",
    "    X_train_fold, X_val_fold = X_train_pad[train_index], X_train_pad[val_index]\n",
    "    y_train_fold, y_val_fold = y_train[train_index], y_train[val_index]\n",
    "\n",
    "    model = Model(inputs=[input_layer], outputs=output_layer)\n",
    "    model.compile(optimizer='adam', loss='binary_crossentropy', metrics=['accuracy'])\n",
    "\n",
    "    early_stopping = EarlyStopping(monitor='val_loss', patience=3, verbose=1, mode='min')\n",
    "\n",
    "    history = model.fit(\n",
    "        X_train_fold,\n",
    "        y_train_fold,\n",
    "        validation_data=(X_val_fold, y_val_fold),\n",
    "        epochs=10,\n",
    "        batch_size=64,\n",
    "        callbacks=[early_stopping],\n",
    "    )\n",
    "\n",
    "    cross_val_results.append((history.history['val_loss'][-1], history.history['val_accuracy'][-1]))\n",
    "\n",
    "print(\"Cross-Validation Results:\")\n",
    "for i, result in enumerate(cross_val_results):\n",
    "    print(f\"Fold {i + 1}: Loss = {result[0]}, Accuracy = {result[1]}\")\n"
   ]
  },
  {
   "cell_type": "code",
   "execution_count": null,
   "id": "82ed527b",
   "metadata": {},
   "outputs": [],
   "source": [
    "\n",
    "# Manual review\n",
    "num_samples = 10  \n",
    "sampled_df = new_df.sample(num_samples, random_state=42)\n",
    "\n",
    "for index, row in sampled_df.iterrows():\n",
    "    print(f\"Caption: {row['text']}\")\n",
    "    print(f\"Predicted Depression Label: {row['predicted_depression_label']}\")\n"
   ]
  },
  {
   "cell_type": "code",
   "execution_count": null,
   "id": "15461652",
   "metadata": {},
   "outputs": [],
   "source": [
    "from sklearn.metrics import accuracy_score, precision_score, recall_score, f1_score, confusion_matrix\n",
    "\n",
    "y_pred_train = (model.predict(X_train_pad) > 0.5).astype(int).reshape(-1)\n",
    "\n",
    "accuracy = accuracy_score(y_train, y_pred_train)\n",
    "precision = precision_score(y_train, y_pred_train)\n",
    "recall = recall_score(y_train, y_pred_train)\n",
    "f1 = f1_score(y_train, y_pred_train)\n",
    "\n",
    "print(f\"Accuracy: {accuracy:.2f}\")\n",
    "print(f\"Precision: {precision:.2f}\")\n",
    "print(f\"Recall: {recall:.2f}\")\n",
    "print(f\"F1-Score: {f1:.2f}\")\n",
    "\n",
    "cm = confusion_matrix(y_train, y_pred_train)\n",
    "print(\"Confusion Matrix:\")\n",
    "print(cm)\n"
   ]
  },
  {
   "cell_type": "code",
   "execution_count": null,
   "id": "c72be0e1",
   "metadata": {},
   "outputs": [],
   "source": [
    "import random\n",
    "\n",
    "# Introduce noise into the training data\n",
    "noisy_data = X_train + ' ' + pd.Series([''.join(random.choices('abcdefghijklmnopqrstuvwxyz', k=10)) for _ in range(len(X_train))])\n",
    "\n",
    "# Re-tokenize and re-pad with the noisy data\n",
    "noisy_data_seq = tokenizer.texts_to_sequences(noisy_data)\n",
    "noisy_data_pad = pad_sequences(noisy_data_seq, maxlen=max_len, padding='post')\n",
    "\n",
    "# Predict with the noisy data\n",
    "y_pred_noisy = (model.predict(noisy_data_pad) > 0.5).astype(int).reshape(-1)\n",
    "\n",
    "# Calculate metrics for the noisy data\n",
    "accuracy_noisy = accuracy_score(y_train, y_pred_noisy)\n",
    "precision_noisy = precision_score(y_train, y_pred_noisy)\n",
    "recall_noisy = recall_score(y_train, y_pred_noisy)\n",
    "f1_noisy = f1_score(y_train, y_pred_noisy)\n",
    "\n",
    "print(\"Metrics with Noisy Data:\")\n",
    "print(f\"Accuracy: {accuracy_noisy:.2f}\")\n",
    "print(f\"Precision: {precision_noisy:.2f}\")\n",
    "print(f\"Recall: {recall_noisy:.2f}\")\n",
    "print(f\"F1-Score: {f1_noisy:.2f}\")\n"
   ]
  },
  {
   "cell_type": "code",
   "execution_count": null,
   "id": "e647fc40",
   "metadata": {},
   "outputs": [],
   "source": [
    "\n",
    "def plot_attention(caption, attention_weights, tokenizer, max_len):\n",
    "    tokens = tokenizer.texts_to_sequences([caption])[0]\n",
    "    words = [tokenizer.index_word[tok] for tok in tokens]\n",
    "\n",
    "    if len(words) < max_len:\n",
    "        words += [\"\"] * (max_len - len(words))\n",
    "\n",
    "    plt.figure(figsize=(10, 6))\n",
    "    plt.plot(range(max_len), attention_weights, label='Attention Weights')\n",
    "    plt.xticks(ticks=range(max_len), labels=words, rotation=90)\n",
    "    plt.title('Attention Weights for Caption')\n",
    "    plt.xlabel('Word Position')\n",
    "    plt.ylabel('Attention Weight')\n",
    "    plt.show()\n",
    "\n",
    "attention_weights_layer = model.layers[-3].output  \n",
    "attention_model = Model(inputs=model.input, outputs=attention_weights_layer)\n",
    "\n",
    "for idx, row in new_df.iterrows():\n",
    "    caption = row['text']\n",
    "    caption_seq = tokenizer.texts_to_sequences([caption])\n",
    "    caption_pad = pad_sequences(caption_seq, maxlen=max_len, padding='post')\n",
    "    attention_output = attention_model.predict(caption_pad)[0]\n",
    "    plot_attention(caption, attention_output, tokenizer, max_len)\n"
   ]
  },
  {
   "cell_type": "code",
   "execution_count": null,
   "id": "72c442f8",
   "metadata": {},
   "outputs": [],
   "source": []
  },
  {
   "cell_type": "code",
   "execution_count": null,
   "id": "69bbb584",
   "metadata": {},
   "outputs": [],
   "source": []
  },
  {
   "cell_type": "code",
   "execution_count": null,
   "id": "5a52f84c",
   "metadata": {},
   "outputs": [],
   "source": []
  }
 ],
 "metadata": {
  "kernelspec": {
   "display_name": "Python 3 (ipykernel)",
   "language": "python",
   "name": "python3"
  },
  "language_info": {
   "codemirror_mode": {
    "name": "ipython",
    "version": 3
   },
   "file_extension": ".py",
   "mimetype": "text/x-python",
   "name": "python",
   "nbconvert_exporter": "python",
   "pygments_lexer": "ipython3",
   "version": "3.11.5"
  }
 },
 "nbformat": 4,
 "nbformat_minor": 5
}
