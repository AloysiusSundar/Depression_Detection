{
 "cells": [
  {
   "cell_type": "code",
   "execution_count": 1,
   "id": "96b07e0c",
   "metadata": {
    "scrolled": false
   },
   "outputs": [
    {
     "name": "stdout",
     "output_type": "stream",
     "text": [
      "Defaulting to user installation because normal site-packages is not writeable\n",
      "Requirement already satisfied: beautifulsoup4 in c:\\programdata\\anaconda3\\lib\\site-packages (4.12.2)\n",
      "Requirement already satisfied: requests in c:\\programdata\\anaconda3\\lib\\site-packages (2.31.0)\n",
      "Requirement already satisfied: pandas in c:\\programdata\\anaconda3\\lib\\site-packages (2.0.3)\n",
      "Requirement already satisfied: matplotlib in c:\\programdata\\anaconda3\\lib\\site-packages (3.7.2)\n",
      "Requirement already satisfied: plotly in c:\\programdata\\anaconda3\\lib\\site-packages (5.9.0)\n",
      "Requirement already satisfied: soupsieve>1.2 in c:\\programdata\\anaconda3\\lib\\site-packages (from beautifulsoup4) (2.4)\n",
      "Requirement already satisfied: charset-normalizer<4,>=2 in c:\\programdata\\anaconda3\\lib\\site-packages (from requests) (2.0.4)\n",
      "Requirement already satisfied: idna<4,>=2.5 in c:\\programdata\\anaconda3\\lib\\site-packages (from requests) (3.4)\n",
      "Requirement already satisfied: urllib3<3,>=1.21.1 in c:\\programdata\\anaconda3\\lib\\site-packages (from requests) (1.26.16)\n",
      "Requirement already satisfied: certifi>=2017.4.17 in c:\\programdata\\anaconda3\\lib\\site-packages (from requests) (2023.7.22)\n",
      "Requirement already satisfied: python-dateutil>=2.8.2 in c:\\programdata\\anaconda3\\lib\\site-packages (from pandas) (2.8.2)\n",
      "Requirement already satisfied: pytz>=2020.1 in c:\\programdata\\anaconda3\\lib\\site-packages (from pandas) (2023.3.post1)\n",
      "Requirement already satisfied: tzdata>=2022.1 in c:\\programdata\\anaconda3\\lib\\site-packages (from pandas) (2023.3)\n",
      "Requirement already satisfied: numpy>=1.21.0 in c:\\programdata\\anaconda3\\lib\\site-packages (from pandas) (1.24.3)\n",
      "Requirement already satisfied: contourpy>=1.0.1 in c:\\programdata\\anaconda3\\lib\\site-packages (from matplotlib) (1.0.5)\n",
      "Requirement already satisfied: cycler>=0.10 in c:\\programdata\\anaconda3\\lib\\site-packages (from matplotlib) (0.11.0)\n",
      "Requirement already satisfied: fonttools>=4.22.0 in c:\\programdata\\anaconda3\\lib\\site-packages (from matplotlib) (4.25.0)\n",
      "Requirement already satisfied: kiwisolver>=1.0.1 in c:\\programdata\\anaconda3\\lib\\site-packages (from matplotlib) (1.4.4)\n",
      "Requirement already satisfied: packaging>=20.0 in c:\\programdata\\anaconda3\\lib\\site-packages (from matplotlib) (23.1)\n",
      "Requirement already satisfied: pillow>=6.2.0 in c:\\programdata\\anaconda3\\lib\\site-packages (from matplotlib) (9.4.0)\n",
      "Requirement already satisfied: pyparsing<3.1,>=2.3.1 in c:\\programdata\\anaconda3\\lib\\site-packages (from matplotlib) (3.0.9)\n",
      "Requirement already satisfied: tenacity>=6.2.0 in c:\\programdata\\anaconda3\\lib\\site-packages (from plotly) (8.2.2)\n",
      "Requirement already satisfied: six>=1.5 in c:\\programdata\\anaconda3\\lib\\site-packages (from python-dateutil>=2.8.2->pandas) (1.16.0)\n"
     ]
    }
   ],
   "source": [
    "!pip install beautifulsoup4 requests pandas matplotlib plotly"
   ]
  },
  {
   "cell_type": "code",
   "execution_count": 7,
   "id": "bc4be2f6",
   "metadata": {},
   "outputs": [],
   "source": [
    "import requests\n",
    "import pandas as pd"
   ]
  },
  {
   "cell_type": "code",
   "execution_count": 8,
   "id": "e36eb226",
   "metadata": {},
   "outputs": [],
   "source": [
    "url = f'https://graph.instagram.com/me/media?fields=id,caption,media_type,media_url,timestamp&access_token=IGQWRQa3VLNjZAkLUhCOWc2WkxZAZA0hEeWx3bC13S21ockRoTXFMMkhjOGRNSVJrWEJBX1R3aG9McU1ab2VScWZARZA3lRM2lpcjdoRXgxbng1TG1zTG5nNGdGbnNtVFpKYlRuRXNVaU5XY3V3bHZArVHJ1V29IMFVIMzAZD'"
   ]
  },
  {
   "cell_type": "code",
   "execution_count": 9,
   "id": "65ce47c5",
   "metadata": {},
   "outputs": [],
   "source": [
    "response = requests.get(url)"
   ]
  },
  {
   "cell_type": "code",
   "execution_count": 10,
   "id": "48208fee",
   "metadata": {},
   "outputs": [],
   "source": [
    "if response.status_code == 200:\n",
    "    data = response.json()\n",
    "else:\n",
    "    print(\"Error making the API request:\", response.text)\n",
    "    data = None"
   ]
  },
  {
   "cell_type": "code",
   "execution_count": 11,
   "id": "c1e96d4f",
   "metadata": {},
   "outputs": [
    {
     "data": {
      "text/plain": [
       "{'data': [{'id': '18343781947128705',\n",
       "   'caption': 'DOT FUCK EM UP 🗣️🗣️🗣️\\n\\n#kendrick #kendricklamar #beef #rapbattle #kungfukenny #champaignpapi',\n",
       "   'media_type': 'VIDEO',\n",
       "   'media_url': 'https://scontent.cdninstagram.com/o1/v/t16/f1/m82/F1469B11933CAD782B450B1A6B590498_video_dashinit.mp4?efg=eyJ2ZW5jb2RlX3RhZyI6InZ0c192b2RfdXJsZ2VuLmNsaXBzLnVua25vd24tQzMuNzIwLmRhc2hfYmFzZWxpbmVfMV92MSJ9&_nc_ht=scontent.cdninstagram.com&_nc_cat=110&vs=1100789667705015_3580976615&_nc_vs=HBksFQIYT2lnX3hwdl9yZWVsc19wZXJtYW5lbnRfcHJvZC9GMTQ2OUIxMTkzM0NBRDc4MkI0NTBCMUE2QjU5MDQ5OF92aWRlb19kYXNoaW5pdC5tcDQVAALIAQAVAhg6cGFzc3Rocm91Z2hfZXZlcnN0b3JlL0dOQmdVaHFmSThTU2JJa0RBRXBXRkhoVkVRcG9icV9FQUFBRhUCAsgBACgAGAAbAYgHdXNlX29pbAExFQAAJuTxoObct4ZAFQIoAkMzLBdAMvhR64UeuBgSZGFzaF9iYXNlbGluZV8xX3YxEQB1AAA%3D&ccb=9-4&oh=00_AfAy_SpVKPwNoFv6__ZM-4ySgUoVIN9FN7yiGHnfKpwdbw&oe=663C8C3B&_nc_sid=1d576d&_nc_rid=1ff98b0a71',\n",
       "   'timestamp': '2024-05-05T12:04:14+0000'},\n",
       "  {'id': '18035682196912526',\n",
       "   'caption': 'BOW BOW BOW \\n\\n#kendrick #kendricklamar #beef #rapbattle #kungfukenny #champaignpapi',\n",
       "   'media_type': 'VIDEO',\n",
       "   'media_url': 'https://scontent.cdninstagram.com/o1/v/t16/f1/m82/00489096CD699EAF76336867655AE3AE_video_dashinit.mp4?efg=eyJ2ZW5jb2RlX3RhZyI6InZ0c192b2RfdXJsZ2VuLmNsaXBzLnVua25vd24tQzMuNzIwLmRhc2hfYmFzZWxpbmVfMV92MSJ9&_nc_ht=scontent.cdninstagram.com&_nc_cat=100&vs=765128535803940_638525896&_nc_vs=HBksFQIYT2lnX3hwdl9yZWVsc19wZXJtYW5lbnRfcHJvZC8wMDQ4OTA5NkNENjk5RUFGNzYzMzY4Njc2NTVBRTNBRV92aWRlb19kYXNoaW5pdC5tcDQVAALIAQAVAhg6cGFzc3Rocm91Z2hfZXZlcnN0b3JlL0dHaWdVQnJ2aU56Q3dYY0JBUFZPRTBIOF95Z0ticV9FQUFBRhUCAsgBACgAGAAbAYgHdXNlX29pbAExFQAAJrr1jd264vc%2FFQIoAkMzLBdAImPXCj1wpBgSZGFzaF9iYXNlbGluZV8xX3YxEQB1AAA%3D&ccb=9-4&oh=00_AfDI4ErRIt2ftyTYJvjaPXlRNhU3y3Samze-DKQnPu8n0w&oe=663C8676&_nc_sid=1d576d&_nc_rid=f0c290afe4',\n",
       "   'timestamp': '2024-05-05T12:03:05+0000'},\n",
       "  {'id': '18078941383467613',\n",
       "   'caption': \"Kendrick my GOAT, put the gloves back on, Drake's not gonna survive this 😭🙏\\n\\n#kendrick #kendricklamar #champaignpapi #beef #kdot #kungfukenny #kungfukenny🥋 #BigMe #rapbattle\",\n",
       "   'media_type': 'VIDEO',\n",
       "   'media_url': 'https://scontent.cdninstagram.com/o1/v/t16/f1/m82/234E36B297D3021DEEB7EAA18A640381_video_dashinit.mp4?efg=eyJ2ZW5jb2RlX3RhZyI6InZ0c192b2RfdXJsZ2VuLmNsaXBzLnVua25vd24tQzMuNzIwLmRhc2hfYmFzZWxpbmVfMV92MSJ9&_nc_ht=scontent.cdninstagram.com&_nc_cat=101&vs=437248512254770_2024314403&_nc_vs=HBksFQIYT2lnX3hwdl9yZWVsc19wZXJtYW5lbnRfcHJvZC8yMzRFMzZCMjk3RDMwMjFERUVCN0VBQTE4QTY0MDM4MV92aWRlb19kYXNoaW5pdC5tcDQVAALIAQAVAhg6cGFzc3Rocm91Z2hfZXZlcnN0b3JlL0dENklUeG9VVldlUE9uMEJBR3BYdVhTaXdOdDRicV9FQUFBRhUCAsgBACgAGAAbAYgHdXNlX29pbAExFQAAJuCMqMXrhJZAFQIoAkMzLBdAJp2yLQ5WBBgSZGFzaF9iYXNlbGluZV8xX3YxEQB1AAA%3D&ccb=9-4&oh=00_AfAs2WhcPyJqvi-3VOjQVgNooK3QqSdJwtBtgWfAWGrOPw&oe=663C8E15&_nc_sid=1d576d&_nc_rid=946387af85',\n",
       "   'timestamp': '2024-05-05T12:00:49+0000'},\n",
       "  {'id': '18243631063248720',\n",
       "   'caption': 'A historical couple of days for hip hop. \\n\\n#drake #champaignpapi #kendrick #kendricklamar #kdot #kungfukenny #kungfukenny🥋 #notlikeus',\n",
       "   'media_type': 'CAROUSEL_ALBUM',\n",
       "   'media_url': 'https://scontent.cdninstagram.com/v/t51.29350-15/441473392_987334789620567_3482600517595606639_n.jpg?_nc_cat=105&ccb=1-7&_nc_sid=18de74&_nc_ohc=xHnxqFcyRpwQ7kNvgHBIJZZ&_nc_ht=scontent.cdninstagram.com&edm=ANo9K5cEAAAA&oh=00_AfAldVFZhVcr5qkMfAKT6PR8ZEIxwU-xL-BPCnHNUJvTKg&oe=66406ABF',\n",
       "   'timestamp': '2024-05-05T08:54:19+0000'},\n",
       "  {'id': '18001435946304729',\n",
       "   'caption': 'yea I made a typo. what about it.',\n",
       "   'media_type': 'CAROUSEL_ALBUM',\n",
       "   'media_url': 'https://scontent.cdninstagram.com/v/t51.29350-15/438870898_2258963241101519_1021049912626333142_n.heic?stp=dst-jpg&_nc_cat=101&ccb=1-7&_nc_sid=18de74&_nc_ohc=R1N81Nhwn6UQ7kNvgHGE4NE&_nc_ht=scontent.cdninstagram.com&edm=ANo9K5cEAAAA&oh=00_AfCGZBhi3R8stkUjYnSjMXvG5zdIpVQydDHjb_doSkDopw&oe=664055E4',\n",
       "   'timestamp': '2024-04-17T06:47:59+0000'},\n",
       "  {'id': '17990458577634414',\n",
       "   'caption': \"random shitposting dump to let y'all know I'm not dead yet and yes, I took time outta my day to make the hello kitty mia wallace edit just so I can make a shitpost\",\n",
       "   'media_type': 'CAROUSEL_ALBUM',\n",
       "   'media_url': 'https://scontent.cdninstagram.com/v/t51.29350-15/435855890_745335901067964_7521249098654970187_n.heic?stp=dst-jpg&_nc_cat=101&ccb=1-7&_nc_sid=18de74&_nc_ohc=YzKb9_YT7o4Q7kNvgHkf00Y&_nc_ht=scontent.cdninstagram.com&edm=ANo9K5cEAAAA&oh=00_AfD8BoQtNXwakz2scvImkmVLWma5UWVFT6SzfIqHXUJ8DQ&oe=66406961',\n",
       "   'timestamp': '2024-04-09T06:19:42+0000'},\n",
       "  {'id': '18429436861035526',\n",
       "   'caption': \"No meme. No grand narrative. No narcissism. No self-gaslight. I feel human again. It might be a fleeting feeling, I might fallback to my old ways like I have in the past but that's okay, realising that I could feel what I haven't felt in almost a decade is a start. It is oddly overwhelming as it is comforting.\\n\\nLife might be bits and pieces for now but it's worth living. One shot, it's worth a try. Tell your loved ones you love them. Take care of yourself. \\n\\nLove.\",\n",
       "   'media_type': 'IMAGE',\n",
       "   'media_url': 'https://scontent.cdninstagram.com/v/t51.29350-15/433289482_3671632733125388_861932960960027222_n.heic?stp=dst-jpg&_nc_cat=110&ccb=1-7&_nc_sid=18de74&_nc_ohc=qWAUcddIa5sQ7kNvgFUXvV1&_nc_ht=scontent.cdninstagram.com&edm=ANo9K5cEAAAA&oh=00_AfCG1MT5AWRRpnOhgNqQLWnKCjHPWTxxrgGolL2wyYCBIg&oe=66406A5E',\n",
       "   'timestamp': '2024-03-16T15:49:51+0000'},\n",
       "  {'id': '18016824458137369',\n",
       "   'caption': 'random irl shitpost dump',\n",
       "   'media_type': 'CAROUSEL_ALBUM',\n",
       "   'media_url': 'https://scontent.cdninstagram.com/v/t51.29350-15/432557758_1444246973137769_1277288385735275564_n.heic?stp=dst-jpg&_nc_cat=101&ccb=1-7&_nc_sid=18de74&_nc_ohc=Grm_oTmrS-EQ7kNvgGkqVWs&_nc_ht=scontent.cdninstagram.com&edm=ANo9K5cEAAAA&oh=00_AfApmkWOng1W9H57tIz0AAT1nt8Aa3nNyiy_d3shdyM3Kg&oe=6640551E',\n",
       "   'timestamp': '2024-03-10T18:13:18+0000'},\n",
       "  {'id': '18305992645182818',\n",
       "   'caption': \"That's not you bro. Stop lying to yourself. Stop sacrificing your code for people who won't be here in 2 years. Look at the words you use. Look at the things you laugh at. Look at the things you agree with. Is that you? Is that really you? Start standing up for who you really are. \\n\\nAs life inevitably separates you from those you strive to please, it won't be their absence that haunts you, but the sting of your own spinelessness and regret. \\n\\nIf you feel called out, then yeah, this is probably for you.\",\n",
       "   'media_type': 'CAROUSEL_ALBUM',\n",
       "   'media_url': 'https://scontent.cdninstagram.com/v/t51.29350-15/431041964_747173697363105_5849159858986238019_n.heic?stp=dst-jpg&_nc_cat=104&ccb=1-7&_nc_sid=18de74&_nc_ohc=N-jRvKGNSqQQ7kNvgE2dQJ8&_nc_ht=scontent.cdninstagram.com&edm=ANo9K5cEAAAA&oh=00_AfDvDeYgZwRDBVUCB492EaxwJsvDcO2Vk07E1oGuFPf_sw&oe=66406A8A',\n",
       "   'timestamp': '2024-03-03T04:48:46+0000'},\n",
       "  {'id': '17955750188709529',\n",
       "   'caption': \"If a single person gets the 4th slide, I'll include them in my will\",\n",
       "   'media_type': 'CAROUSEL_ALBUM',\n",
       "   'media_url': 'https://scontent.cdninstagram.com/v/t51.29350-15/418799036_1120439599321135_7708683674274846531_n.jpg?_nc_cat=110&ccb=1-7&_nc_sid=18de74&_nc_ohc=GPtpKPiEpYwQ7kNvgFniF8I&_nc_ht=scontent.cdninstagram.com&edm=ANo9K5cEAAAA&oh=00_AfB3qnAp4nxDJx1YfKlJzOAoy7wTvN08oC6J2smww2PmRw&oe=66407E4F',\n",
       "   'timestamp': '2024-01-15T11:58:48+0000'},\n",
       "  {'id': '18005358593222137',\n",
       "   'caption': \"I'm only a little delusional and am otherwise totally grounded in reality and a very practical person.\",\n",
       "   'media_type': 'CAROUSEL_ALBUM',\n",
       "   'media_url': 'https://scontent.cdninstagram.com/v/t51.29350-15/412819932_1916091368792865_4383296214442231731_n.heic?stp=dst-jpg&_nc_cat=107&ccb=1-7&_nc_sid=18de74&_nc_ohc=mKB9cVtxXKoQ7kNvgGYmCRO&_nc_ht=scontent.cdninstagram.com&edm=ANo9K5cEAAAA&oh=00_AfAQFdxHa7uT63czjZnoKTbTqDhAN8UGP2YQKduL6xAo6w&oe=664060EE',\n",
       "   'timestamp': '2023-12-27T15:09:12+0000'},\n",
       "  {'id': '18022501024897176',\n",
       "   'caption': 'MY UNDISPUTED GOAT \\n\\n#dbs #tamilanime #dragonball #frieza #tamiledits',\n",
       "   'media_type': 'VIDEO',\n",
       "   'media_url': 'https://scontent.cdninstagram.com/o1/v/t16/f1/m82/BF4218E5B9AE42629A6CA5EC408CCAAC_video_dashinit.mp4?efg=eyJ2ZW5jb2RlX3RhZyI6InZ0c192b2RfdXJsZ2VuLmNsaXBzLnVua25vd24tQzMuNzIwLmRhc2hfYmFzZWxpbmVfMV92MSJ9&_nc_ht=scontent.cdninstagram.com&_nc_cat=106&vs=6969057413180413_2893517013&_nc_vs=HBksFQIYT2lnX3hwdl9yZWVsc19wZXJtYW5lbnRfcHJvZC9CRjQyMThFNUI5QUU0MjYyOUE2Q0E1RUM0MDhDQ0FBQ192aWRlb19kYXNoaW5pdC5tcDQVAALIAQAVAhg6cGFzc3Rocm91Z2hfZXZlcnN0b3JlL0dCNUpVUmpiZGltRkVDY0JBRUhqSFVMTU00VmlicV9FQUFBRhUCAsgBACgAGAAbAYgHdXNlX29pbAExFQAAJtbO2%2Fiqir4%2FFQIoAkMzLBdARkSbpeNT%2BBgSZGFzaF9iYXNlbGluZV8xX3YxEQB1AAA%3D&ccb=9-4&oh=00_AfD8agxE3vRE0gXFIHZxU4Xf4nDPa_ynJokCoOsa-25xgA&oe=663C6C59&_nc_sid=1d576d&_nc_rid=6990322685',\n",
       "   'timestamp': '2023-12-19T14:57:43+0000'},\n",
       "  {'id': '17994703235166855',\n",
       "   'caption': 'Be whimsical. Be silly.\\n\\n#master #tamilmemes #tamilmeme #danktamil #tamildank #vijay #positivitymemes #posititivity',\n",
       "   'media_type': 'VIDEO',\n",
       "   'media_url': 'https://scontent.cdninstagram.com/o1/v/t16/f1/m82/AE41AD449690480159BFA0C730A112AB_video_dashinit.mp4?efg=eyJ2ZW5jb2RlX3RhZyI6InZ0c192b2RfdXJsZ2VuLmNsaXBzLnVua25vd24tQzMuNzIwLmRhc2hfYmFzZWxpbmVfMV92MSJ9&_nc_ht=scontent.cdninstagram.com&_nc_cat=105&vs=1512862592802749_592522843&_nc_vs=HBksFQIYT2lnX3hwdl9yZWVsc19wZXJtYW5lbnRfcHJvZC9BRTQxQUQ0NDk2OTA0ODAxNTlCRkEwQzczMEExMTJBQl92aWRlb19kYXNoaW5pdC5tcDQVAALIAQAVAhg6cGFzc3Rocm91Z2hfZXZlcnN0b3JlL0dOVUZQQmdKdU5QREZud0xBSVNoVFRKWXViMVVicV9FQUFBRhUCAsgBACgAGAAbAYgHdXNlX29pbAExFQAAJvjSnfbFta5BFQIoAkMzLBdATgMSbpeNUBgSZGFzaF9iYXNlbGluZV8xX3YxEQB1AAA%3D&ccb=9-4&oh=00_AfA9hzdbNkoiVTSCcCIjvm0tG00oppD9okJDNlo0rrktXQ&oe=663C6511&_nc_sid=1d576d&_nc_rid=9e52a0998c',\n",
       "   'timestamp': '2023-12-02T07:34:30+0000'},\n",
       "  {'id': '18218645470249095',\n",
       "   'caption': \"JD the typa guy to show up to a Christmas party with a oversized Christmas hat.\\n\\nLife might be a lot for you rn but you will come out on top. Ily all. Times might be fucked but we're up. \\n\\n.\\n\\n \\n\\n.\\n\\n.\\n#christmas #master #vijay #christmasmemes #posititivity #positivitymemes #tamilmemes #tamilmeme #meme #danktamil\",\n",
       "   'media_type': 'CAROUSEL_ALBUM',\n",
       "   'media_url': 'https://scontent.cdninstagram.com/v/t51.29350-15/407197126_6987066368027487_1404574238650594553_n.jpg?_nc_cat=100&ccb=1-7&_nc_sid=18de74&_nc_ohc=kSCFjUaLvTIQ7kNvgHhm-lK&_nc_oc=AdiUU-B5R5bN28lsdRPCvsUxNUcRVAknx4frpUMdmnAIS8Wz8tLhgafiTnPUadwhsDI&_nc_ht=scontent.cdninstagram.com&edm=ANo9K5cEAAAA&oh=00_AfDbaxzUM8FfmIgJIdxXNxk2pz-pygp1NnxxAi2NmnTO_g&oe=664052E3',\n",
       "   'timestamp': '2023-12-02T07:12:29+0000'},\n",
       "  {'id': '18011905295057674',\n",
       "   'caption': 'I\\'m fluent in 4 different languages of \"fuck it we ball\"',\n",
       "   'media_type': 'VIDEO',\n",
       "   'media_url': 'https://scontent.cdninstagram.com/o1/v/t16/f1/m82/C7465EA3ECA888DAD04B5DA9D4FA9BB5_video_dashinit.mp4?efg=eyJ2ZW5jb2RlX3RhZyI6InZ0c192b2RfdXJsZ2VuLmNsaXBzLnVua25vd24tQzMuNzIwLmRhc2hfYmFzZWxpbmVfMV92MSJ9&_nc_ht=scontent.cdninstagram.com&_nc_cat=108&vs=356384666929942_3119473610&_nc_vs=HBksFQIYT2lnX3hwdl9yZWVsc19wZXJtYW5lbnRfcHJvZC9DNzQ2NUVBM0VDQTg4OERBRDA0QjVEQTlENEZBOUJCNV92aWRlb19kYXNoaW5pdC5tcDQVAALIAQAVAhg6cGFzc3Rocm91Z2hfZXZlcnN0b3JlL0dPYmpMaGdPNk1yYnRCTUJBRUlHUWZRTVN1SlBicV9FQUFBRhUCAsgBACgAGAAbAYgHdXNlX29pbAExFQAAJsKwsfDL7uo%2FFQIoAkMzLBdAQp9cKPXCjxgSZGFzaF9iYXNlbGluZV8xX3YxEQB1AAA%3D&ccb=9-4&oh=00_AfCvhG_zN4gKuALQyjhzHvHeAXPs3euRl9I4Q8PgtaTGaQ&oe=663C5FF6&_nc_sid=1d576d&_nc_rid=5398166cd7',\n",
       "   'timestamp': '2023-11-24T15:34:35+0000'},\n",
       "  {'id': '18008160932102301',\n",
       "   'caption': \"no, I didn't post the same thing twice.\",\n",
       "   'media_type': 'CAROUSEL_ALBUM',\n",
       "   'media_url': 'https://scontent.cdninstagram.com/v/t51.29350-15/402162130_356704440364238_3199194129447441481_n.jpg?_nc_cat=105&ccb=1-7&_nc_sid=18de74&_nc_ohc=K94dPt5n9AEQ7kNvgGV6Vjf&_nc_oc=AdhLA7evt-stxJM1x0g3lxf9jG1t2YYSQ9hwM54xA6P_xQ_C1IF7WUHo19SjXNhdcZ8&_nc_ht=scontent.cdninstagram.com&edm=ANo9K5cEAAAA&oh=00_AfDJEoHjuIW-tfSD4iBT2m6OJu9OcvCiAP7LLSeE-dGsyg&oe=66407002',\n",
       "   'timestamp': '2023-11-14T16:46:04+0000'},\n",
       "  {'id': '18000435485039559',\n",
       "   'caption': \"I'm sorry 🫡\",\n",
       "   'media_type': 'IMAGE',\n",
       "   'media_url': 'https://scontent.cdninstagram.com/v/t51.29350-15/373376967_1294638764779066_154021399891774683_n.heic?stp=dst-jpg&_nc_cat=102&ccb=1-7&_nc_sid=18de74&_nc_ohc=56KOLuovSOEQ7kNvgGP2zQN&_nc_ht=scontent.cdninstagram.com&edm=ANo9K5cEAAAA&oh=00_AfC-6tFWhPzbSL-AQiVfiEBjAL8zNyHj1qGwv0ELbIRzxw&oe=66405C29',\n",
       "   'timestamp': '2023-09-03T12:54:25+0000'},\n",
       "  {'id': '18007749421565473',\n",
       "   'caption': 'Simbu na posting ft Kanye and @ab1sh6k. \\n\\nBawling time over. Back to balling. Going back to my roots and gonna start shitposting here again hehe.\\n\\n....I should be studying for my finals.',\n",
       "   'media_type': 'CAROUSEL_ALBUM',\n",
       "   'media_url': 'https://scontent.cdninstagram.com/v/t51.29350-15/341186143_909161047059253_1865716374576467642_n.webp?stp=dst-jpg&_nc_cat=107&ccb=1-7&_nc_sid=18de74&_nc_ohc=wvTC6DtgkaIQ7kNvgEU4duA&_nc_ht=scontent.cdninstagram.com&edm=ANo9K5cEAAAA&oh=00_AfAEgJ7dqz1icL_kyeicM3pWfUzzyuYkzQrbYFbtZdSfkg&oe=6640588E',\n",
       "   'timestamp': '2023-04-16T07:31:56+0000'},\n",
       "  {'id': '17940036962013919',\n",
       "   'caption': 'Thelpathrising.\\n\\nre-upload with some more random low tier dump.\\n\\n#tamildank #tamildankmemes #tamilmemes #tamilvibeposting #tamilvibe',\n",
       "   'media_type': 'CAROUSEL_ALBUM',\n",
       "   'media_url': 'https://scontent.cdninstagram.com/v/t51.29350-15/279440670_520492923059493_6597627087499427649_n.webp?stp=dst-jpg&_nc_cat=101&ccb=1-7&_nc_sid=18de74&_nc_ohc=24AdlgAZ3DgQ7kNvgHTLR99&_nc_ht=scontent.cdninstagram.com&edm=ANo9K5cEAAAA&oh=00_AfAwrY1KaHI_qf-Jt32p2_cGZECbf6jCYDodtCxiK4qcnQ&oe=6640678F',\n",
       "   'timestamp': '2022-05-01T05:48:29+0000'},\n",
       "  {'id': '18226950910110577',\n",
       "   'caption': \"VIT Quality.\\n\\nI'm starting from barebones with this software so pls be kind. \\n\\n#vitmemes #vit\",\n",
       "   'media_type': 'VIDEO',\n",
       "   'media_url': 'https://scontent.cdninstagram.com/o1/v/t16/f2/m69/An-21znwJzMYtyXPi1WtyjtQvR1GG3_IsJODPkv0TBILURLaEhFjkTNMjSNxH44PLN_VS2tCPewlImd3KqWHv3uK?efg=eyJ2ZW5jb2RlX3RhZyI6InZ0c192b2RfdXJsZ2VuLmlndHYudW5rbm93bi1DMy43MjAuZGFzaF9iYXNlbGluZV8xX3YxIn0&_nc_ht=scontent.cdninstagram.com&_nc_cat=110&vs=338409281574600_556589997&_nc_vs=HBksFQIYOnBhc3N0aHJvdWdoX2V2ZXJzdG9yZS9HTkRLZ2hESUpiSUJkXzRCQU0xYXlIc3c2ZjV3YnZWQkFBQUYVAALIAQAVAhg6cGFzc3Rocm91Z2hfZXZlcnN0b3JlL0dLTWdjeEQ3MndXSUh4SUJBR1lGbE51bXNsc2FidlZCQUFBRhUCAsgBACgAGAAbAYgHdXNlX29pbAExFQAAJvi6h5vK8NE%2FFQIoAkMzLBdAQMHrhR64UhgSZGFzaF9iYXNlbGluZV8xX3YxEQB17AcA&ccb=9-4&oh=00_AfAA9ORqvGA4O0dm941wMNK1fMcZqLaxg1NeJfUPxlM0WQ&oe=663C702E&_nc_sid=1d576d&_nc_rid=9539c73a25',\n",
       "   'timestamp': '2022-03-19T07:35:04+0000'},\n",
       "  {'id': '17913080249495049',\n",
       "   'caption': 'real\\n\\n#batman #reddit #aita #memes #real',\n",
       "   'media_type': 'IMAGE',\n",
       "   'media_url': 'https://scontent.cdninstagram.com/v/t51.29350-15/273631790_294169289282458_1195786359603684715_n.webp?stp=dst-jpg&_nc_cat=102&ccb=1-7&_nc_sid=18de74&_nc_ohc=oz_Q1sPFatQQ7kNvgHv-Lw_&_nc_ht=scontent.cdninstagram.com&edm=ANo9K5cEAAAA&oh=00_AfBNvX5o9dLToDpS5qAAwiI_bX068gZTl2gtH2hJkWzL8g&oe=664062BA',\n",
       "   'timestamp': '2022-02-09T11:48:07+0000'},\n",
       "  {'id': '17950752697721136',\n",
       "   'caption': 'me returning to online chatter after a hiatus',\n",
       "   'media_type': 'IMAGE',\n",
       "   'media_url': 'https://scontent.cdninstagram.com/v/t51.29350-15/272744466_315130520416149_8886776290882476982_n.webp?stp=dst-jpg&_nc_cat=100&ccb=1-7&_nc_sid=18de74&_nc_ohc=quRbfUvJRTwQ7kNvgFMkLIY&_nc_ht=scontent.cdninstagram.com&edm=ANo9K5cEAAAA&oh=00_AfD114VJn50EP4N8VS7nlrNjjQFqiyrVOfX_rVlcd2jNjA&oe=66407669',\n",
       "   'timestamp': '2022-01-27T06:35:02+0000'},\n",
       "  {'id': '17885077769356695',\n",
       "   'caption': \"I'll never get back the 5 mins I spent making this.\",\n",
       "   'media_type': 'VIDEO',\n",
       "   'media_url': 'https://scontent.cdninstagram.com/o1/v/t16/f1/m84/9946F6A16BF27E540E2BE42922ACD590_video_dashinit.mp4?efg=eyJ2ZW5jb2RlX3RhZyI6InZ0c192b2RfdXJsZ2VuLmZlZWQudW5rbm93bi1DMy43MjAuZGFzaF9iYXNlbGluZV8xX3YxIn0&_nc_ht=scontent.cdninstagram.com&_nc_cat=110&vs=216473754796494_3724816083&_nc_vs=HBksFQIYTGlnX2JhY2tmaWxsX3RpbWVsaW5lX3ZvZC85OTQ2RjZBMTZCRjI3RTU0MEUyQkU0MjkyMkFDRDU5MF92aWRlb19kYXNoaW5pdC5tcDQVAALIAQAVAhg6cGFzc3Rocm91Z2hfZXZlcnN0b3JlL0dHUmFqUmRHczd6VFhQY0NBS2tFWm5QWG5RbG9icGt3QUFBRhUCAsgBACgAGAAbAYgHdXNlX29pbAExFQAAJvyPqK%2B12tU%2FFQIoAkMzLBdAHogxJul41RgSZGFzaF9iYXNlbGluZV8xX3YxEQB16gcA&ccb=9-4&oh=00_AfDSK-mgRs7xf89dUIMbKdAZ5WIQF2RtiCfad3dNGP2qLw&oe=663C7C9F&_nc_sid=1d576d&_nc_rid=00c7d21ce8',\n",
       "   'timestamp': '2021-09-09T05:19:01+0000'},\n",
       "  {'id': '18008952232333142',\n",
       "   'caption': 'Sigma grind.',\n",
       "   'media_type': 'IMAGE',\n",
       "   'media_url': 'https://scontent.cdninstagram.com/v/t51.29350-15/235334737_383139856686246_2613314503199905303_n.jpg?_nc_cat=108&ccb=1-7&_nc_sid=18de74&_nc_ohc=drLVPlRjYGAQ7kNvgE_pnYQ&_nc_ht=scontent.cdninstagram.com&edm=ANo9K5cEAAAA&oh=00_AfAwESMKsYNdB9zVwsaunovASpVFizgt6sPEKdiFezvAqw&oe=66408085',\n",
       "   'timestamp': '2021-08-11T06:12:00+0000'},\n",
       "  {'id': '17887491308478864',\n",
       "   'caption': 'Pretty sure only like two tamil people will understand but whatever',\n",
       "   'media_type': 'IMAGE',\n",
       "   'media_url': 'https://scontent.cdninstagram.com/v/t51.29350-15/233715090_572982397215868_6214198233757506515_n.jpg?_nc_cat=108&ccb=1-7&_nc_sid=18de74&_nc_ohc=JWKS9b3BrYgQ7kNvgGaxDY4&_nc_ht=scontent.cdninstagram.com&edm=ANo9K5cEAAAA&oh=00_AfB0CA5CBFTXO4hZJ5Q9dH7gtdfuGn2a9Kn7qVPfnpLxWw&oe=66408296',\n",
       "   'timestamp': '2021-08-06T09:00:46+0000'}],\n",
       " 'paging': {'cursors': {'before': 'QVFIUktXYW1Rd3h5MFpsLXJuVnk4bjZAaelZAKcjc3X0RJeU91VTRnQm55SEVOX0xlc3ZAJUXpabERmZAllqWTZAjTEt5Qi1aQkx3NVhXWThlM2N0bGs0N1RYX0N3',\n",
       "   'after': 'QVFIUnBGb3pLb3ktTVlBMC1vV1JnTWQxQ1pJRTFpdHpweU05cFhxOEZArM0FGR2szRGlyRlZAsTEcwVWZAmSnJJVnU4WTh5NTlrRDFSRzJFX1dmTmcwcFVxTU5R'},\n",
       "  'next': 'https://graph.instagram.com/v19.0/17841444950323917/media?fields=id,caption,media_type,media_url,timestamp&access_token=IGQWRQa3VLNjZAkLUhCOWc2WkxZAZA0hEeWx3bC13S21ockRoTXFMMkhjOGRNSVJrWEJBX1R3aG9McU1ab2VScWZARZA3lRM2lpcjdoRXgxbng1TG1zTG5nNGdGbnNtVFpKYlRuRXNVaU5XY3V3bHZArVHJ1V29IMFVIMzAZD&limit=25&after=QVFIUnBGb3pLb3ktTVlBMC1vV1JnTWQxQ1pJRTFpdHpweU05cFhxOEZArM0FGR2szRGlyRlZAsTEcwVWZAmSnJJVnU4WTh5NTlrRDFSRzJFX1dmTmcwcFVxTU5R'}}"
      ]
     },
     "execution_count": 11,
     "metadata": {},
     "output_type": "execute_result"
    }
   ],
   "source": [
    "data"
   ]
  },
  {
   "cell_type": "code",
   "execution_count": 12,
   "id": "41e9a646",
   "metadata": {},
   "outputs": [],
   "source": [
    "if data:\n",
    "    df = pd.DataFrame(data['data'])  # Assuming 'data' is a dictionary containing 'data' key with a list of records\n",
    "else:\n",
    "    df = pd.DataFrame(columns=['id', 'caption','mediatype','media_url','timestamp'])\n"
   ]
  },
  {
   "cell_type": "code",
   "execution_count": 13,
   "id": "0fa1078b",
   "metadata": {
    "scrolled": true
   },
   "outputs": [
    {
     "name": "stdout",
     "output_type": "stream",
     "text": [
      "                   id                                            caption  \\\n",
      "0   18343781947128705  DOT FUCK EM UP 🗣️🗣️🗣️\\n\\n#kendrick #kendrickla...   \n",
      "1   18035682196912526  BOW BOW BOW \\n\\n#kendrick #kendricklamar #beef...   \n",
      "2   18078941383467613  Kendrick my GOAT, put the gloves back on, Drak...   \n",
      "3   18243631063248720  A historical couple of days for hip hop. \\n\\n#...   \n",
      "4   18001435946304729                  yea I made a typo. what about it.   \n",
      "5   17990458577634414  random shitposting dump to let y'all know I'm ...   \n",
      "6   18429436861035526  No meme. No grand narrative. No narcissism. No...   \n",
      "7   18016824458137369                           random irl shitpost dump   \n",
      "8   18305992645182818  That's not you bro. Stop lying to yourself. St...   \n",
      "9   17955750188709529  If a single person gets the 4th slide, I'll in...   \n",
      "10  18005358593222137  I'm only a little delusional and am otherwise ...   \n",
      "11  18022501024897176  MY UNDISPUTED GOAT \\n\\n#dbs #tamilanime #drago...   \n",
      "12  17994703235166855  Be whimsical. Be silly.\\n\\n#master #tamilmemes...   \n",
      "13  18218645470249095  JD the typa guy to show up to a Christmas part...   \n",
      "14  18011905295057674  I'm fluent in 4 different languages of \"fuck i...   \n",
      "15  18008160932102301            no, I didn't post the same thing twice.   \n",
      "16  18000435485039559                                        I'm sorry 🫡   \n",
      "17  18007749421565473  Simbu na posting ft Kanye and @ab1sh6k. \\n\\nBa...   \n",
      "18  17940036962013919  Thelpathrising.\\n\\nre-upload with some more ra...   \n",
      "19  18226950910110577  VIT Quality.\\n\\nI'm starting from barebones wi...   \n",
      "20  17913080249495049         real\\n\\n#batman #reddit #aita #memes #real   \n",
      "21  17950752697721136      me returning to online chatter after a hiatus   \n",
      "22  17885077769356695  I'll never get back the 5 mins I spent making ...   \n",
      "23  18008952232333142                                       Sigma grind.   \n",
      "24  17887491308478864  Pretty sure only like two tamil people will un...   \n",
      "\n",
      "        media_type                                          media_url  \\\n",
      "0            VIDEO  https://scontent.cdninstagram.com/o1/v/t16/f1/...   \n",
      "1            VIDEO  https://scontent.cdninstagram.com/o1/v/t16/f1/...   \n",
      "2            VIDEO  https://scontent.cdninstagram.com/o1/v/t16/f1/...   \n",
      "3   CAROUSEL_ALBUM  https://scontent.cdninstagram.com/v/t51.29350-...   \n",
      "4   CAROUSEL_ALBUM  https://scontent.cdninstagram.com/v/t51.29350-...   \n",
      "5   CAROUSEL_ALBUM  https://scontent.cdninstagram.com/v/t51.29350-...   \n",
      "6            IMAGE  https://scontent.cdninstagram.com/v/t51.29350-...   \n",
      "7   CAROUSEL_ALBUM  https://scontent.cdninstagram.com/v/t51.29350-...   \n",
      "8   CAROUSEL_ALBUM  https://scontent.cdninstagram.com/v/t51.29350-...   \n",
      "9   CAROUSEL_ALBUM  https://scontent.cdninstagram.com/v/t51.29350-...   \n",
      "10  CAROUSEL_ALBUM  https://scontent.cdninstagram.com/v/t51.29350-...   \n",
      "11           VIDEO  https://scontent.cdninstagram.com/o1/v/t16/f1/...   \n",
      "12           VIDEO  https://scontent.cdninstagram.com/o1/v/t16/f1/...   \n",
      "13  CAROUSEL_ALBUM  https://scontent.cdninstagram.com/v/t51.29350-...   \n",
      "14           VIDEO  https://scontent.cdninstagram.com/o1/v/t16/f1/...   \n",
      "15  CAROUSEL_ALBUM  https://scontent.cdninstagram.com/v/t51.29350-...   \n",
      "16           IMAGE  https://scontent.cdninstagram.com/v/t51.29350-...   \n",
      "17  CAROUSEL_ALBUM  https://scontent.cdninstagram.com/v/t51.29350-...   \n",
      "18  CAROUSEL_ALBUM  https://scontent.cdninstagram.com/v/t51.29350-...   \n",
      "19           VIDEO  https://scontent.cdninstagram.com/o1/v/t16/f2/...   \n",
      "20           IMAGE  https://scontent.cdninstagram.com/v/t51.29350-...   \n",
      "21           IMAGE  https://scontent.cdninstagram.com/v/t51.29350-...   \n",
      "22           VIDEO  https://scontent.cdninstagram.com/o1/v/t16/f1/...   \n",
      "23           IMAGE  https://scontent.cdninstagram.com/v/t51.29350-...   \n",
      "24           IMAGE  https://scontent.cdninstagram.com/v/t51.29350-...   \n",
      "\n",
      "                   timestamp  \n",
      "0   2024-05-05T12:04:14+0000  \n",
      "1   2024-05-05T12:03:05+0000  \n",
      "2   2024-05-05T12:00:49+0000  \n",
      "3   2024-05-05T08:54:19+0000  \n",
      "4   2024-04-17T06:47:59+0000  \n",
      "5   2024-04-09T06:19:42+0000  \n",
      "6   2024-03-16T15:49:51+0000  \n",
      "7   2024-03-10T18:13:18+0000  \n",
      "8   2024-03-03T04:48:46+0000  \n",
      "9   2024-01-15T11:58:48+0000  \n",
      "10  2023-12-27T15:09:12+0000  \n",
      "11  2023-12-19T14:57:43+0000  \n",
      "12  2023-12-02T07:34:30+0000  \n",
      "13  2023-12-02T07:12:29+0000  \n",
      "14  2023-11-24T15:34:35+0000  \n",
      "15  2023-11-14T16:46:04+0000  \n",
      "16  2023-09-03T12:54:25+0000  \n",
      "17  2023-04-16T07:31:56+0000  \n",
      "18  2022-05-01T05:48:29+0000  \n",
      "19  2022-03-19T07:35:04+0000  \n",
      "20  2022-02-09T11:48:07+0000  \n",
      "21  2022-01-27T06:35:02+0000  \n",
      "22  2021-09-09T05:19:01+0000  \n",
      "23  2021-08-11T06:12:00+0000  \n",
      "24  2021-08-06T09:00:46+0000  \n"
     ]
    }
   ],
   "source": [
    "print(df)"
   ]
  },
  {
   "cell_type": "code",
   "execution_count": 14,
   "id": "0b1b3b7e",
   "metadata": {},
   "outputs": [],
   "source": [
    "df.to_csv('instagram_data.csv', index=False)"
   ]
  },
  {
   "cell_type": "code",
   "execution_count": 15,
   "id": "14dd736b",
   "metadata": {},
   "outputs": [
    {
     "name": "stdout",
     "output_type": "stream",
     "text": [
      "Defaulting to user installation because normal site-packages is not writeable\n",
      "Requirement already satisfied: scikit-learn in c:\\programdata\\anaconda3\\lib\\site-packages (1.3.0)\n",
      "Requirement already satisfied: keras in c:\\users\\joyal\\appdata\\roaming\\python\\python311\\site-packages (3.1.1)\n",
      "Requirement already satisfied: tensorflow in c:\\users\\joyal\\appdata\\roaming\\python\\python311\\site-packages (2.16.1)\n",
      "Requirement already satisfied: numpy>=1.17.3 in c:\\programdata\\anaconda3\\lib\\site-packages (from scikit-learn) (1.24.3)\n",
      "Requirement already satisfied: scipy>=1.5.0 in c:\\programdata\\anaconda3\\lib\\site-packages (from scikit-learn) (1.11.1)\n",
      "Requirement already satisfied: joblib>=1.1.1 in c:\\programdata\\anaconda3\\lib\\site-packages (from scikit-learn) (1.2.0)\n",
      "Requirement already satisfied: threadpoolctl>=2.0.0 in c:\\programdata\\anaconda3\\lib\\site-packages (from scikit-learn) (2.2.0)\n",
      "Requirement already satisfied: absl-py in c:\\users\\joyal\\appdata\\roaming\\python\\python311\\site-packages (from keras) (2.1.0)\n",
      "Requirement already satisfied: rich in c:\\users\\joyal\\appdata\\roaming\\python\\python311\\site-packages (from keras) (13.7.1)\n",
      "Requirement already satisfied: namex in c:\\users\\joyal\\appdata\\roaming\\python\\python311\\site-packages (from keras) (0.0.7)\n",
      "Requirement already satisfied: h5py in c:\\users\\joyal\\appdata\\roaming\\python\\python311\\site-packages (from keras) (3.10.0)\n",
      "Requirement already satisfied: optree in c:\\users\\joyal\\appdata\\roaming\\python\\python311\\site-packages (from keras) (0.11.0)\n",
      "Requirement already satisfied: ml-dtypes in c:\\users\\joyal\\appdata\\roaming\\python\\python311\\site-packages (from keras) (0.3.2)\n",
      "Requirement already satisfied: tensorflow-intel==2.16.1 in c:\\users\\joyal\\appdata\\roaming\\python\\python311\\site-packages (from tensorflow) (2.16.1)\n",
      "Requirement already satisfied: astunparse>=1.6.0 in c:\\users\\joyal\\appdata\\roaming\\python\\python311\\site-packages (from tensorflow-intel==2.16.1->tensorflow) (1.6.3)\n",
      "Requirement already satisfied: flatbuffers>=23.5.26 in c:\\users\\joyal\\appdata\\roaming\\python\\python311\\site-packages (from tensorflow-intel==2.16.1->tensorflow) (24.3.25)\n",
      "Requirement already satisfied: gast!=0.5.0,!=0.5.1,!=0.5.2,>=0.2.1 in c:\\users\\joyal\\appdata\\roaming\\python\\python311\\site-packages (from tensorflow-intel==2.16.1->tensorflow) (0.5.4)\n",
      "Requirement already satisfied: google-pasta>=0.1.1 in c:\\users\\joyal\\appdata\\roaming\\python\\python311\\site-packages (from tensorflow-intel==2.16.1->tensorflow) (0.2.0)\n",
      "Requirement already satisfied: libclang>=13.0.0 in c:\\users\\joyal\\appdata\\roaming\\python\\python311\\site-packages (from tensorflow-intel==2.16.1->tensorflow) (18.1.1)\n",
      "Requirement already satisfied: opt-einsum>=2.3.2 in c:\\users\\joyal\\appdata\\roaming\\python\\python311\\site-packages (from tensorflow-intel==2.16.1->tensorflow) (3.3.0)\n",
      "Requirement already satisfied: packaging in c:\\programdata\\anaconda3\\lib\\site-packages (from tensorflow-intel==2.16.1->tensorflow) (23.1)\n",
      "Requirement already satisfied: protobuf!=4.21.0,!=4.21.1,!=4.21.2,!=4.21.3,!=4.21.4,!=4.21.5,<5.0.0dev,>=3.20.3 in c:\\users\\joyal\\appdata\\roaming\\python\\python311\\site-packages (from tensorflow-intel==2.16.1->tensorflow) (4.25.3)\n",
      "Requirement already satisfied: requests<3,>=2.21.0 in c:\\programdata\\anaconda3\\lib\\site-packages (from tensorflow-intel==2.16.1->tensorflow) (2.31.0)\n",
      "Requirement already satisfied: setuptools in c:\\programdata\\anaconda3\\lib\\site-packages (from tensorflow-intel==2.16.1->tensorflow) (68.0.0)\n",
      "Requirement already satisfied: six>=1.12.0 in c:\\programdata\\anaconda3\\lib\\site-packages (from tensorflow-intel==2.16.1->tensorflow) (1.16.0)\n",
      "Requirement already satisfied: termcolor>=1.1.0 in c:\\users\\joyal\\appdata\\roaming\\python\\python311\\site-packages (from tensorflow-intel==2.16.1->tensorflow) (2.4.0)\n",
      "Requirement already satisfied: typing-extensions>=3.6.6 in c:\\programdata\\anaconda3\\lib\\site-packages (from tensorflow-intel==2.16.1->tensorflow) (4.7.1)\n",
      "Requirement already satisfied: wrapt>=1.11.0 in c:\\programdata\\anaconda3\\lib\\site-packages (from tensorflow-intel==2.16.1->tensorflow) (1.14.1)\n",
      "Requirement already satisfied: grpcio<2.0,>=1.24.3 in c:\\users\\joyal\\appdata\\roaming\\python\\python311\\site-packages (from tensorflow-intel==2.16.1->tensorflow) (1.62.1)\n",
      "Requirement already satisfied: tensorboard<2.17,>=2.16 in c:\\users\\joyal\\appdata\\roaming\\python\\python311\\site-packages (from tensorflow-intel==2.16.1->tensorflow) (2.16.2)\n",
      "Requirement already satisfied: tensorflow-io-gcs-filesystem>=0.23.1 in c:\\users\\joyal\\appdata\\roaming\\python\\python311\\site-packages (from tensorflow-intel==2.16.1->tensorflow) (0.31.0)\n",
      "Requirement already satisfied: markdown-it-py>=2.2.0 in c:\\programdata\\anaconda3\\lib\\site-packages (from rich->keras) (2.2.0)\n",
      "Requirement already satisfied: pygments<3.0.0,>=2.13.0 in c:\\programdata\\anaconda3\\lib\\site-packages (from rich->keras) (2.15.1)\n",
      "Requirement already satisfied: wheel<1.0,>=0.23.0 in c:\\programdata\\anaconda3\\lib\\site-packages (from astunparse>=1.6.0->tensorflow-intel==2.16.1->tensorflow) (0.38.4)\n",
      "Requirement already satisfied: mdurl~=0.1 in c:\\programdata\\anaconda3\\lib\\site-packages (from markdown-it-py>=2.2.0->rich->keras) (0.1.0)\n",
      "Requirement already satisfied: charset-normalizer<4,>=2 in c:\\programdata\\anaconda3\\lib\\site-packages (from requests<3,>=2.21.0->tensorflow-intel==2.16.1->tensorflow) (2.0.4)\n",
      "Requirement already satisfied: idna<4,>=2.5 in c:\\programdata\\anaconda3\\lib\\site-packages (from requests<3,>=2.21.0->tensorflow-intel==2.16.1->tensorflow) (3.4)\n",
      "Requirement already satisfied: urllib3<3,>=1.21.1 in c:\\programdata\\anaconda3\\lib\\site-packages (from requests<3,>=2.21.0->tensorflow-intel==2.16.1->tensorflow) (1.26.16)\n",
      "Requirement already satisfied: certifi>=2017.4.17 in c:\\programdata\\anaconda3\\lib\\site-packages (from requests<3,>=2.21.0->tensorflow-intel==2.16.1->tensorflow) (2023.7.22)\n",
      "Requirement already satisfied: markdown>=2.6.8 in c:\\programdata\\anaconda3\\lib\\site-packages (from tensorboard<2.17,>=2.16->tensorflow-intel==2.16.1->tensorflow) (3.4.1)\n",
      "Requirement already satisfied: tensorboard-data-server<0.8.0,>=0.7.0 in c:\\users\\joyal\\appdata\\roaming\\python\\python311\\site-packages (from tensorboard<2.17,>=2.16->tensorflow-intel==2.16.1->tensorflow) (0.7.2)\n",
      "Requirement already satisfied: werkzeug>=1.0.1 in c:\\programdata\\anaconda3\\lib\\site-packages (from tensorboard<2.17,>=2.16->tensorflow-intel==2.16.1->tensorflow) (2.2.3)\n",
      "Requirement already satisfied: MarkupSafe>=2.1.1 in c:\\programdata\\anaconda3\\lib\\site-packages (from werkzeug>=1.0.1->tensorboard<2.17,>=2.16->tensorflow-intel==2.16.1->tensorflow) (2.1.1)\n"
     ]
    }
   ],
   "source": [
    "!pip install scikit-learn keras tensorflow\n"
   ]
  },
  {
   "cell_type": "code",
   "execution_count": 16,
   "id": "f8840746",
   "metadata": {},
   "outputs": [],
   "source": [
    "import tensorflow as tf\n",
    "from tensorflow.keras.preprocessing.text import Tokenizer\n",
    "from sklearn.model_selection import train_test_split\n",
    "from keras.preprocessing.sequence import pad_sequences\n",
    "from keras.models import Sequential\n",
    "from keras.models import Model\n",
    "from keras.layers import Embedding, Bidirectional, LSTM, Dense, Input, Concatenate, Dot, Activation"
   ]
  },
  {
   "cell_type": "code",
   "execution_count": 17,
   "id": "333c42de",
   "metadata": {},
   "outputs": [],
   "source": [
    "training_data = pd.read_csv('training_data.csv')"
   ]
  },
  {
   "cell_type": "code",
   "execution_count": 18,
   "id": "d59bb3e9",
   "metadata": {},
   "outputs": [],
   "source": [
    "instagram_data = pd.read_csv('instagram_data.csv',encoding='latin-1')"
   ]
  },
  {
   "cell_type": "code",
   "execution_count": 19,
   "id": "f9271148",
   "metadata": {},
   "outputs": [],
   "source": [
    "instagram_data.dropna(subset=['caption'], inplace=True)\n",
    "X_train = training_data['caption'].astype(str)\n",
    "y_train = training_data['depression_label']\n",
    "X_test = instagram_data['caption'].astype(str)"
   ]
  },
  {
   "cell_type": "code",
   "execution_count": 20,
   "id": "fae6e4bf",
   "metadata": {},
   "outputs": [],
   "source": [
    "tokenizer = Tokenizer()\n",
    "tokenizer.fit_on_texts(X_train)\n",
    "X_train_seq = tokenizer.texts_to_sequences(X_train)\n",
    "X_test_seq = tokenizer.texts_to_sequences(X_test)"
   ]
  },
  {
   "cell_type": "code",
   "execution_count": 48,
   "id": "00446c59",
   "metadata": {},
   "outputs": [],
   "source": [
    "max_len = 100  # Define your maximum sequence length\n",
    "X_train_pad = pad_sequences(X_train_seq, maxlen=max_len, padding='post')\n",
    "X_test_pad = pad_sequences(X_test_seq, maxlen=max_len, padding='post')"
   ]
  },
  {
   "cell_type": "code",
   "execution_count": 49,
   "id": "c104f5fc",
   "metadata": {},
   "outputs": [],
   "source": [
    "input_layer = Input(shape=(max_len,))\n",
    "embedding_layer = Embedding(input_dim=len(tokenizer.word_index)+1, output_dim=100)(input_layer)\n",
    "lstm_layer = Bidirectional(LSTM(64, return_sequences=True))(embedding_layer)\n",
    "attention = Dense(1, activation='tanh')(lstm_layer)\n",
    "attention = Activation('sigmoid')(attention)\n",
    "context = Dot(axes=1)([attention, lstm_layer])\n",
    "output_layer = Dense(1, activation='sigmoid')(context)\n",
    "\n",
    "model = Model(inputs=[input_layer], outputs=output_layer)"
   ]
  },
  {
   "cell_type": "code",
   "execution_count": 50,
   "id": "e7624659",
   "metadata": {},
   "outputs": [],
   "source": [
    "model.compile(optimizer='adam', loss='binary_crossentropy', metrics=['accuracy'])"
   ]
  },
  {
   "cell_type": "code",
   "execution_count": 51,
   "id": "515d795d",
   "metadata": {},
   "outputs": [
    {
     "name": "stdout",
     "output_type": "stream",
     "text": [
      "Epoch 1/10\n",
      "\u001b[1m121/121\u001b[0m \u001b[32m━━━━━━━━━━━━━━━━━━━━\u001b[0m\u001b[37m\u001b[0m \u001b[1m12s\u001b[0m 64ms/step - accuracy: 0.7817 - loss: 0.7387\n",
      "Epoch 2/10\n",
      "\u001b[1m121/121\u001b[0m \u001b[32m━━━━━━━━━━━━━━━━━━━━\u001b[0m\u001b[37m\u001b[0m \u001b[1m8s\u001b[0m 66ms/step - accuracy: 0.9485 - loss: 0.1583\n",
      "Epoch 3/10\n",
      "\u001b[1m121/121\u001b[0m \u001b[32m━━━━━━━━━━━━━━━━━━━━\u001b[0m\u001b[37m\u001b[0m \u001b[1m8s\u001b[0m 63ms/step - accuracy: 0.9779 - loss: 0.0817\n",
      "Epoch 4/10\n",
      "\u001b[1m121/121\u001b[0m \u001b[32m━━━━━━━━━━━━━━━━━━━━\u001b[0m\u001b[37m\u001b[0m \u001b[1m7s\u001b[0m 61ms/step - accuracy: 0.9882 - loss: 0.0451\n",
      "Epoch 5/10\n",
      "\u001b[1m121/121\u001b[0m \u001b[32m━━━━━━━━━━━━━━━━━━━━\u001b[0m\u001b[37m\u001b[0m \u001b[1m7s\u001b[0m 61ms/step - accuracy: 0.9904 - loss: 0.0344\n",
      "Epoch 6/10\n",
      "\u001b[1m121/121\u001b[0m \u001b[32m━━━━━━━━━━━━━━━━━━━━\u001b[0m\u001b[37m\u001b[0m \u001b[1m7s\u001b[0m 61ms/step - accuracy: 0.9930 - loss: 0.0241\n",
      "Epoch 7/10\n",
      "\u001b[1m121/121\u001b[0m \u001b[32m━━━━━━━━━━━━━━━━━━━━\u001b[0m\u001b[37m\u001b[0m \u001b[1m8s\u001b[0m 62ms/step - accuracy: 0.9928 - loss: 0.0252\n",
      "Epoch 8/10\n",
      "\u001b[1m121/121\u001b[0m \u001b[32m━━━━━━━━━━━━━━━━━━━━\u001b[0m\u001b[37m\u001b[0m \u001b[1m8s\u001b[0m 64ms/step - accuracy: 0.9964 - loss: 0.0159\n",
      "Epoch 9/10\n",
      "\u001b[1m121/121\u001b[0m \u001b[32m━━━━━━━━━━━━━━━━━━━━\u001b[0m\u001b[37m\u001b[0m \u001b[1m9s\u001b[0m 74ms/step - accuracy: 0.9958 - loss: 0.0162\n",
      "Epoch 10/10\n",
      "\u001b[1m121/121\u001b[0m \u001b[32m━━━━━━━━━━━━━━━━━━━━\u001b[0m\u001b[37m\u001b[0m \u001b[1m8s\u001b[0m 64ms/step - accuracy: 0.9967 - loss: 0.0122\n"
     ]
    },
    {
     "data": {
      "text/plain": [
       "<keras.src.callbacks.history.History at 0x24a59883320>"
      ]
     },
     "execution_count": 51,
     "metadata": {},
     "output_type": "execute_result"
    }
   ],
   "source": [
    "model.fit(X_train_pad, y_train, epochs=10, batch_size=64)"
   ]
  },
  {
   "cell_type": "code",
   "execution_count": 52,
   "id": "c221f47b",
   "metadata": {},
   "outputs": [
    {
     "name": "stdout",
     "output_type": "stream",
     "text": [
      "\u001b[1m1/1\u001b[0m \u001b[32m━━━━━━━━━━━━━━━━━━━━\u001b[0m\u001b[37m\u001b[0m \u001b[1m0s\u001b[0m 332ms/step\n"
     ]
    }
   ],
   "source": [
    "predicted_labels = model.predict(X_test_pad)"
   ]
  },
  {
   "cell_type": "code",
   "execution_count": 53,
   "id": "c4d98655",
   "metadata": {},
   "outputs": [],
   "source": [
    "instagram_data['predicted_depression_label'] = predicted_labels.reshape(-1)\n"
   ]
  },
  {
   "cell_type": "code",
   "execution_count": 54,
   "id": "04d49a6d",
   "metadata": {},
   "outputs": [],
   "source": [
    "depressing_captions = instagram_data[instagram_data['predicted_depression_label'] > 0.9]['caption']\n"
   ]
  },
  {
   "cell_type": "code",
   "execution_count": 55,
   "id": "b6981c3e",
   "metadata": {},
   "outputs": [
    {
     "name": "stdout",
     "output_type": "stream",
     "text": [
      "Everyday it gets harder.\n",
      "\n",
      "Everyday it's like a nightmare\n",
      "progressing on.\n",
      "\n",
      "Everyday is another prayer\n",
      "echohing from my bones\n",
      "asking God\n",
      "to take me now.\n",
      "\n",
      "Everyday I close up more.\n",
      "\n",
      "Everyday it gets more impossible.\n",
      "\n",
      "Everyday I feel myself die some more.\n",
      "\n",
      "Everyday | lay on my bed\n",
      "wondering how\n",
      "I'll leave this hell.\n",
      "\n",
      "I've never felt so much pain.\n",
      "Depression and No tears left to cry snatched me bold\n",
      "is there a surgery to fix my depression?\n",
      "You ever just... Get happy... To flex on... The homies with depression\n",
      "The world was suffering from the Great Depression\n",
      "my new hyper fixation is janelle monáe i love depression\n",
      "i can b happy for a split sec then depression just like \"\"neck bitch\"\"\n",
      "Have a small penis?Yes?You suffer from Depression.This causes loneliness.Try Adderall\n"
     ]
    }
   ],
   "source": [
    "for caption in depressing_captions:\n",
    "    print(caption)\n"
   ]
  },
  {
   "cell_type": "code",
   "execution_count": 56,
   "id": "1d4401b7",
   "metadata": {},
   "outputs": [
    {
     "data": {
      "text/html": [
       "<div>\n",
       "<style scoped>\n",
       "    .dataframe tbody tr th:only-of-type {\n",
       "        vertical-align: middle;\n",
       "    }\n",
       "\n",
       "    .dataframe tbody tr th {\n",
       "        vertical-align: top;\n",
       "    }\n",
       "\n",
       "    .dataframe thead th {\n",
       "        text-align: right;\n",
       "    }\n",
       "</style>\n",
       "<table border=\"1\" class=\"dataframe\">\n",
       "  <thead>\n",
       "    <tr style=\"text-align: right;\">\n",
       "      <th></th>\n",
       "      <th>id</th>\n",
       "      <th>caption</th>\n",
       "      <th>media_type</th>\n",
       "      <th>media_url</th>\n",
       "      <th>timestamp</th>\n",
       "      <th>predicted_depression_label</th>\n",
       "    </tr>\n",
       "  </thead>\n",
       "  <tbody>\n",
       "    <tr>\n",
       "      <th>0</th>\n",
       "      <td>1.800000e+16</td>\n",
       "      <td>Everyday it gets harder.\\n\\nEveryday it's like...</td>\n",
       "      <td>IMAGE</td>\n",
       "      <td>https://scontent.cdninstagram.com/v/t51.29350-...</td>\n",
       "      <td>2024-05-04T10:29:34+0000</td>\n",
       "      <td>1.0</td>\n",
       "    </tr>\n",
       "    <tr>\n",
       "      <th>1</th>\n",
       "      <td>1.800000e+16</td>\n",
       "      <td>Depression and No tears left to cry snatched m...</td>\n",
       "      <td>IMAGE</td>\n",
       "      <td>https://scontent.cdninstagram.com/v/t51.29350-...</td>\n",
       "      <td>2024-05-04T10:29:34+0001</td>\n",
       "      <td>1.0</td>\n",
       "    </tr>\n",
       "    <tr>\n",
       "      <th>2</th>\n",
       "      <td>1.800000e+16</td>\n",
       "      <td>is there a surgery to fix my depression?</td>\n",
       "      <td>IMAGE</td>\n",
       "      <td>https://scontent.cdninstagram.com/v/t51.29350-...</td>\n",
       "      <td>2024-05-04T10:29:34+0002</td>\n",
       "      <td>1.0</td>\n",
       "    </tr>\n",
       "    <tr>\n",
       "      <th>3</th>\n",
       "      <td>1.800000e+16</td>\n",
       "      <td>You ever just... Get happy... To flex on... Th...</td>\n",
       "      <td>IMAGE</td>\n",
       "      <td>https://scontent.cdninstagram.com/v/t51.29350-...</td>\n",
       "      <td>2024-05-04T10:29:34+0003</td>\n",
       "      <td>1.0</td>\n",
       "    </tr>\n",
       "    <tr>\n",
       "      <th>4</th>\n",
       "      <td>1.800000e+16</td>\n",
       "      <td>The world was suffering from the Great Depression</td>\n",
       "      <td>IMAGE</td>\n",
       "      <td>https://scontent.cdninstagram.com/v/t51.29350-...</td>\n",
       "      <td>2024-05-04T10:29:34+0004</td>\n",
       "      <td>1.0</td>\n",
       "    </tr>\n",
       "    <tr>\n",
       "      <th>5</th>\n",
       "      <td>1.800000e+16</td>\n",
       "      <td>my new hyper fixation is janelle monáe i love ...</td>\n",
       "      <td>IMAGE</td>\n",
       "      <td>https://scontent.cdninstagram.com/v/t51.29350-...</td>\n",
       "      <td>2024-05-04T10:29:34+0005</td>\n",
       "      <td>1.0</td>\n",
       "    </tr>\n",
       "    <tr>\n",
       "      <th>6</th>\n",
       "      <td>1.800000e+16</td>\n",
       "      <td>i can b happy for a split sec then depression ...</td>\n",
       "      <td>IMAGE</td>\n",
       "      <td>https://scontent.cdninstagram.com/v/t51.29350-...</td>\n",
       "      <td>2024-05-04T10:29:34+0006</td>\n",
       "      <td>1.0</td>\n",
       "    </tr>\n",
       "    <tr>\n",
       "      <th>7</th>\n",
       "      <td>1.800000e+16</td>\n",
       "      <td>Have a small penis?Yes?You suffer from Depress...</td>\n",
       "      <td>IMAGE</td>\n",
       "      <td>https://scontent.cdninstagram.com/v/t51.29350-...</td>\n",
       "      <td>2024-05-04T10:29:34+0007</td>\n",
       "      <td>1.0</td>\n",
       "    </tr>\n",
       "  </tbody>\n",
       "</table>\n",
       "</div>"
      ],
      "text/plain": [
       "             id                                            caption media_type  \\\n",
       "0  1.800000e+16  Everyday it gets harder.\\n\\nEveryday it's like...      IMAGE   \n",
       "1  1.800000e+16  Depression and No tears left to cry snatched m...      IMAGE   \n",
       "2  1.800000e+16           is there a surgery to fix my depression?      IMAGE   \n",
       "3  1.800000e+16  You ever just... Get happy... To flex on... Th...      IMAGE   \n",
       "4  1.800000e+16  The world was suffering from the Great Depression      IMAGE   \n",
       "5  1.800000e+16  my new hyper fixation is janelle monáe i love ...      IMAGE   \n",
       "6  1.800000e+16  i can b happy for a split sec then depression ...      IMAGE   \n",
       "7  1.800000e+16  Have a small penis?Yes?You suffer from Depress...      IMAGE   \n",
       "\n",
       "                                           media_url  \\\n",
       "0  https://scontent.cdninstagram.com/v/t51.29350-...   \n",
       "1  https://scontent.cdninstagram.com/v/t51.29350-...   \n",
       "2  https://scontent.cdninstagram.com/v/t51.29350-...   \n",
       "3  https://scontent.cdninstagram.com/v/t51.29350-...   \n",
       "4  https://scontent.cdninstagram.com/v/t51.29350-...   \n",
       "5  https://scontent.cdninstagram.com/v/t51.29350-...   \n",
       "6  https://scontent.cdninstagram.com/v/t51.29350-...   \n",
       "7  https://scontent.cdninstagram.com/v/t51.29350-...   \n",
       "\n",
       "                  timestamp  predicted_depression_label  \n",
       "0  2024-05-04T10:29:34+0000                         1.0  \n",
       "1  2024-05-04T10:29:34+0001                         1.0  \n",
       "2  2024-05-04T10:29:34+0002                         1.0  \n",
       "3  2024-05-04T10:29:34+0003                         1.0  \n",
       "4  2024-05-04T10:29:34+0004                         1.0  \n",
       "5  2024-05-04T10:29:34+0005                         1.0  \n",
       "6  2024-05-04T10:29:34+0006                         1.0  \n",
       "7  2024-05-04T10:29:34+0007                         1.0  "
      ]
     },
     "execution_count": 56,
     "metadata": {},
     "output_type": "execute_result"
    }
   ],
   "source": [
    "instagram_data"
   ]
  },
  {
   "cell_type": "markdown",
   "id": "29c2cf3f",
   "metadata": {},
   "source": [
    "# trying to fit a distribution here"
   ]
  },
  {
   "cell_type": "code",
   "execution_count": 57,
   "id": "b2ff5336",
   "metadata": {},
   "outputs": [],
   "source": [
    "# Define the threshold value\n",
    "threshold = 0.5\n",
    "\n",
    "# Classify users based on the predicted depression labels\n",
    "instagram_data['predicted_depression_class'] = instagram_data['predicted_depression_label'].apply(lambda x: 1 if x >= threshold else 0)\n"
   ]
  },
  {
   "cell_type": "code",
   "execution_count": 58,
   "id": "aa16a601",
   "metadata": {},
   "outputs": [
    {
     "name": "stdout",
     "output_type": "stream",
     "text": [
      "                                             caption  \\\n",
      "0  Everyday it gets harder.\\n\\nEveryday it's like...   \n",
      "1  Depression and No tears left to cry snatched m...   \n",
      "2           is there a surgery to fix my depression?   \n",
      "3  You ever just... Get happy... To flex on... Th...   \n",
      "4  The world was suffering from the Great Depression   \n",
      "5  my new hyper fixation is janelle monáe i love ...   \n",
      "6  i can b happy for a split sec then depression ...   \n",
      "7  Have a small penis?Yes?You suffer from Depress...   \n",
      "\n",
      "   predicted_depression_label  predicted_depression_class  \n",
      "0                         1.0                           1  \n",
      "1                         1.0                           1  \n",
      "2                         1.0                           1  \n",
      "3                         1.0                           1  \n",
      "4                         1.0                           1  \n",
      "5                         1.0                           1  \n",
      "6                         1.0                           1  \n",
      "7                         1.0                           1  \n"
     ]
    }
   ],
   "source": [
    "# Display the users and their predicted depression class\n",
    "print(instagram_data[['caption', 'predicted_depression_label', 'predicted_depression_class']])"
   ]
  },
  {
   "cell_type": "code",
   "execution_count": 59,
   "id": "7215c72d",
   "metadata": {},
   "outputs": [],
   "source": [
    "import numpy as np\n",
    "import matplotlib.pyplot as plt\n",
    "from scipy.stats import norm, gamma, beta\n"
   ]
  },
  {
   "cell_type": "code",
   "execution_count": 61,
   "id": "dc5f39ab",
   "metadata": {},
   "outputs": [],
   "source": [
    "mu, std = norm.fit(instagram_data['predicted_depression_label'])\n"
   ]
  },
  {
   "cell_type": "code",
   "execution_count": 64,
   "id": "1148bd31",
   "metadata": {},
   "outputs": [
    {
     "name": "stdout",
     "output_type": "stream",
     "text": [
      "0    1.0\n",
      "1    1.0\n",
      "2    1.0\n",
      "3    1.0\n",
      "4    1.0\n",
      "5    1.0\n",
      "6    1.0\n",
      "7    1.0\n",
      "Name: predicted_depression_label, dtype: float32\n"
     ]
    }
   ],
   "source": [
    "print(instagram_data['predicted_depression_label'])"
   ]
  },
  {
   "cell_type": "code",
   "execution_count": 63,
   "id": "f9dca46a",
   "metadata": {},
   "outputs": [
    {
     "name": "stderr",
     "output_type": "stream",
     "text": [
      "c:\\Users\\mvish\\AppData\\Local\\Programs\\Python\\Python312\\Lib\\site-packages\\numpy\\lib\\histograms.py:885: RuntimeWarning: divide by zero encountered in divide\n",
      "  return n/db/n.sum(), bin_edges\n",
      "c:\\Users\\mvish\\AppData\\Local\\Programs\\Python\\Python312\\Lib\\site-packages\\numpy\\lib\\histograms.py:885: RuntimeWarning: invalid value encountered in divide\n",
      "  return n/db/n.sum(), bin_edges\n"
     ]
    },
    {
     "data": {
      "image/png": "[encoded data removed]",
      "text/plain": [
       "<Figure size 640x480 with 1 Axes>"
      ]
     },
     "metadata": {},
     "output_type": "display_data"
    }
   ],
   "source": [
    "plt.hist(instagram_data['predicted_depression_label'], bins=25, density=True, alpha=0.6, color='g')\n",
    "xmin, xmax = plt.xlim()\n",
    "x = np.linspace(xmin, xmax, 100)\n",
    "p = norm.pdf(x, mu, std)\n",
    "plt.plot(x, p, 'k', linewidth=2)\n",
    "title = \"Fit results: mu = %.2f,  std = %.2f\" % (mu, std)\n",
    "plt.title(title)\n",
    "plt.show()\n"
   ]
  },
  {
   "cell_type": "code",
   "execution_count": null,
   "id": "ae87deb6",
   "metadata": {},
   "outputs": [],
   "source": []
  }
 ],
 "metadata": {
  "kernelspec": {
   "display_name": "Python 3 (ipykernel)",
   "language": "python",
   "name": "python3"
  },
  "language_info": {
   "codemirror_mode": {
    "name": "ipython",
    "version": 3
   },
   "file_extension": ".py",
   "mimetype": "text/x-python",
   "name": "python",
   "nbconvert_exporter": "python",
   "pygments_lexer": "ipython3",
   "version": "3.11.5"
  }
 },
 "nbformat": 4,
 "nbformat_minor": 5
}
